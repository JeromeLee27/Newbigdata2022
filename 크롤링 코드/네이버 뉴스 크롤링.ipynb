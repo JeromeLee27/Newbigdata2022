{
 "cells": [
  {
   "cell_type": "markdown",
   "id": "2d65019d",
   "metadata": {},
   "source": [
    "## 네이버 뉴스 크롤링\n",
    "출처 : https://kkkapuq.tistory.com/63"
   ]
  },
  {
   "cell_type": "code",
   "execution_count": 33,
   "id": "5cfa23b3",
   "metadata": {
    "ExecuteTime": {
     "end_time": "2022-07-18T04:57:16.348684Z",
     "start_time": "2022-07-18T04:57:14.976208Z"
    }
   },
   "outputs": [],
   "source": [
    "from selenium import webdriver\n",
    "import time\n",
    "import pandas as pd"
   ]
  },
  {
   "cell_type": "code",
   "execution_count": 35,
   "id": "a5211f0e",
   "metadata": {
    "ExecuteTime": {
     "end_time": "2022-07-18T04:58:15.057630Z",
     "start_time": "2022-07-18T04:57:35.455168Z"
    }
   },
   "outputs": [
    {
     "name": "stderr",
     "output_type": "stream",
     "text": [
      "C:\\Users\\ChannelA\\AppData\\Local\\Temp/ipykernel_7972/3499423277.py:6: DeprecationWarning: executable_path has been deprecated, please pass in a Service object\n",
      "  driver = webdriver.Chrome('C:/Users/ChannelA/Practice/chromedriver.exe')\n",
      "C:\\Users\\ChannelA\\AppData\\Local\\Temp/ipykernel_7972/3499423277.py:11: DeprecationWarning: find_element_by_css_selector is deprecated. Please use find_element(by=By.CSS_SELECTOR, value=css_selector) instead\n",
      "  cleanbot = driver.find_element_by_css_selector('a.u_cbox_cleanbot_setbutton') # 클린봇 설정 버튼\n",
      "C:\\Users\\ChannelA\\AppData\\Local\\Temp/ipykernel_7972/3499423277.py:14: DeprecationWarning: find_element_by_xpath is deprecated. Please use find_element(by=By.XPATH, value=xpath) instead\n",
      "  cleanbot_disable = driver.find_element_by_xpath(\"//*[@id='cleanbot_dialog_checkbox_cbox_module']\") # 클린봇 해제 버튼\n",
      "C:\\Users\\ChannelA\\AppData\\Local\\Temp/ipykernel_7972/3499423277.py:17: DeprecationWarning: find_element_by_xpath is deprecated. Please use find_element(by=By.XPATH, value=xpath) instead\n",
      "  cleanbot_confirm = driver.find_element_by_xpath(\"/html/body/div[2]/div/div[2]/div[4]/button\") # 확인 버튼\n",
      "C:\\Users\\ChannelA\\AppData\\Local\\Temp/ipykernel_7972/3499423277.py:24: DeprecationWarning: find_element_by_css_selector is deprecated. Please use find_element(by=By.CSS_SELECTOR, value=css_selector) instead\n",
      "  btn_more = driver.find_element_by_css_selector('a.u_cbox_btn_more')\n",
      "C:\\Users\\ChannelA\\AppData\\Local\\Temp/ipykernel_7972/3499423277.py:31: DeprecationWarning: find_elements_by_css_selector is deprecated. Please use find_elements(by=By.CSS_SELECTOR, value=css_selector) instead\n",
      "  contents = driver.find_elements_by_css_selector('span.u_cbox_contents')\n"
     ]
    }
   ],
   "source": [
    "url = 'https://n.news.naver.com/mnews/article/214/0001209728?sid=101'\n",
    "idx = url.find('article')\n",
    "url_new = url[:idx+7]+'/comment'+url[idx+7:]\n",
    "\n",
    "#웹 드라이버\n",
    "driver = webdriver.Chrome('C:/Users/ChannelA/Practice/chromedriver.exe')\n",
    "driver.implicitly_wait(30)\n",
    "driver.get(url_new)\n",
    " \n",
    "#네이버의 경우, 클린봇으로 추출이 안되는게 있다, 클린봇 옵션 해제 후 추출해주도록 한다.\n",
    "cleanbot = driver.find_element_by_css_selector('a.u_cbox_cleanbot_setbutton') # 클린봇 설정 버튼\n",
    "cleanbot.click()\n",
    "time.sleep(1)\n",
    "cleanbot_disable = driver.find_element_by_xpath(\"//*[@id='cleanbot_dialog_checkbox_cbox_module']\") # 클린봇 해제 버튼\n",
    "cleanbot_disable.click()\n",
    "time.sleep(1)\n",
    "cleanbot_confirm = driver.find_element_by_xpath(\"/html/body/div[2]/div/div[2]/div[4]/button\") # 확인 버튼\n",
    "cleanbot_confirm.click()\n",
    "time.sleep(1)\n",
    " \n",
    "#더보기 계속 클릭하기\n",
    "while True:\n",
    "    try:\n",
    "        btn_more = driver.find_element_by_css_selector('a.u_cbox_btn_more')\n",
    "        btn_more.click()\n",
    "        # time.sleep(1)\n",
    "    except:\n",
    "        break\n",
    "        \n",
    "#댓글추출\n",
    "contents = driver.find_elements_by_css_selector('span.u_cbox_contents')\n",
    "comment_list = []\n",
    "\n",
    "for content in contents:\n",
    "    comment_list.append(content.text)"
   ]
  },
  {
   "cell_type": "code",
   "execution_count": 36,
   "id": "cd49bd28",
   "metadata": {
    "ExecuteTime": {
     "end_time": "2022-07-18T04:58:38.733150Z",
     "start_time": "2022-07-18T04:58:38.721156Z"
    }
   },
   "outputs": [
    {
     "data": {
      "text/html": [
       "<div>\n",
       "<style scoped>\n",
       "    .dataframe tbody tr th:only-of-type {\n",
       "        vertical-align: middle;\n",
       "    }\n",
       "\n",
       "    .dataframe tbody tr th {\n",
       "        vertical-align: top;\n",
       "    }\n",
       "\n",
       "    .dataframe thead th {\n",
       "        text-align: right;\n",
       "    }\n",
       "</style>\n",
       "<table border=\"1\" class=\"dataframe\">\n",
       "  <thead>\n",
       "    <tr style=\"text-align: right;\">\n",
       "      <th></th>\n",
       "      <th>comment</th>\n",
       "    </tr>\n",
       "  </thead>\n",
       "  <tbody>\n",
       "    <tr>\n",
       "      <th>0</th>\n",
       "      <td>30% 인상 한 들 정규직의 반도 안되는 월급인데 쓸데 없이 간섭 하는것 보단 전 ...</td>\n",
       "    </tr>\n",
       "    <tr>\n",
       "      <th>1</th>\n",
       "      <td>노동자를 대변하는게 아니다.배후에 거대집단이 있으며 하청노동자들을 선동하여 조선3사...</td>\n",
       "    </tr>\n",
       "    <tr>\n",
       "      <th>2</th>\n",
       "      <td>고압적 자세는 여전하네 다음 선거 때 봅시다.</td>\n",
       "    </tr>\n",
       "    <tr>\n",
       "      <th>3</th>\n",
       "      <td>모르는 놈은 단호하게 조치하고 아는 놈은 9급에 넣어주고?????? 이런놈이 국회의...</td>\n",
       "    </tr>\n",
       "    <tr>\n",
       "      <th>4</th>\n",
       "      <td>권성동이 재 버릇 남 못주고 권력에 취해 가는구나.</td>\n",
       "    </tr>\n",
       "  </tbody>\n",
       "</table>\n",
       "</div>"
      ],
      "text/plain": [
       "                                             comment\n",
       "0  30% 인상 한 들 정규직의 반도 안되는 월급인데 쓸데 없이 간섭 하는것 보단 전 ...\n",
       "1  노동자를 대변하는게 아니다.배후에 거대집단이 있으며 하청노동자들을 선동하여 조선3사...\n",
       "2                          고압적 자세는 여전하네 다음 선거 때 봅시다.\n",
       "3  모르는 놈은 단호하게 조치하고 아는 놈은 9급에 넣어주고?????? 이런놈이 국회의...\n",
       "4                       권성동이 재 버릇 남 못주고 권력에 취해 가는구나."
      ]
     },
     "execution_count": 36,
     "metadata": {},
     "output_type": "execute_result"
    }
   ],
   "source": [
    "df = pd.DataFrame({'comment':comment_list})\n",
    "df.head()"
   ]
  },
  {
   "cell_type": "code",
   "execution_count": 37,
   "id": "87aaf76b",
   "metadata": {
    "ExecuteTime": {
     "end_time": "2022-07-18T04:59:14.526974Z",
     "start_time": "2022-07-18T04:59:14.503780Z"
    }
   },
   "outputs": [],
   "source": [
    "df.to_csv('./네이버뉴스.csv',index=False,encoding='utf-8-sig')"
   ]
  },
  {
   "cell_type": "code",
   "execution_count": null,
   "id": "79016bce",
   "metadata": {},
   "outputs": [],
   "source": []
  }
 ],
 "metadata": {
  "kernelspec": {
   "display_name": "Python 3 (ipykernel)",
   "language": "python",
   "name": "python3"
  },
  "language_info": {
   "codemirror_mode": {
    "name": "ipython",
    "version": 3
   },
   "file_extension": ".py",
   "mimetype": "text/x-python",
   "name": "python",
   "nbconvert_exporter": "python",
   "pygments_lexer": "ipython3",
   "version": "3.9.7"
  },
  "toc": {
   "base_numbering": 1,
   "nav_menu": {},
   "number_sections": true,
   "sideBar": true,
   "skip_h1_title": false,
   "title_cell": "Table of Contents",
   "title_sidebar": "Contents",
   "toc_cell": false,
   "toc_position": {},
   "toc_section_display": true,
   "toc_window_display": false
  },
  "varInspector": {
   "cols": {
    "lenName": 16,
    "lenType": 16,
    "lenVar": 40
   },
   "kernels_config": {
    "python": {
     "delete_cmd_postfix": "",
     "delete_cmd_prefix": "del ",
     "library": "var_list.py",
     "varRefreshCmd": "print(var_dic_list())"
    },
    "r": {
     "delete_cmd_postfix": ") ",
     "delete_cmd_prefix": "rm(",
     "library": "var_list.r",
     "varRefreshCmd": "cat(var_dic_list()) "
    }
   },
   "types_to_exclude": [
    "module",
    "function",
    "builtin_function_or_method",
    "instance",
    "_Feature"
   ],
   "window_display": false
  }
 },
 "nbformat": 4,
 "nbformat_minor": 5
}
