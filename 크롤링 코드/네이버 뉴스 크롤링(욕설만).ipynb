{
 "cells": [
  {
   "cell_type": "markdown",
   "id": "819d2877",
   "metadata": {},
   "source": [
    "## 네이버 뉴스 크롤링(전체)\n",
    "출처 : https://kkkapuq.tistory.com/63"
   ]
  },
  {
   "cell_type": "markdown",
   "id": "e74fcc9b",
   "metadata": {},
   "source": [
    "**욕설 있는 댓글을 많이 잡고 싶어서 전체 댓글 크롤링 하다보니 시간이 좀 걸립니다!!**"
   ]
  },
  {
   "cell_type": "code",
   "execution_count": 1,
   "id": "fa36dc69",
   "metadata": {
    "ExecuteTime": {
     "end_time": "2022-08-01T01:57:43.351298Z",
     "start_time": "2022-08-01T01:57:42.262335Z"
    }
   },
   "outputs": [],
   "source": [
    "from selenium import webdriver\n",
    "import time\n",
    "import pandas as pd"
   ]
  },
  {
   "cell_type": "code",
   "execution_count": 8,
   "id": "de10c3dc",
   "metadata": {
    "ExecuteTime": {
     "end_time": "2022-08-01T02:01:24.021961Z",
     "start_time": "2022-08-01T01:59:53.826723Z"
    },
    "code_folding": []
   },
   "outputs": [
    {
     "name": "stderr",
     "output_type": "stream",
     "text": [
      "C:\\Users\\ChannelA\\AppData\\Local\\Temp/ipykernel_15400/2756502066.py:6: DeprecationWarning: executable_path has been deprecated, please pass in a Service object\n",
      "  driver = webdriver.Chrome('C:/Users/ChannelA/Practice/chromedriver.exe')\n",
      "C:\\Users\\ChannelA\\AppData\\Local\\Temp/ipykernel_15400/2756502066.py:11: DeprecationWarning: find_element_by_css_selector is deprecated. Please use find_element(by=By.CSS_SELECTOR, value=css_selector) instead\n",
      "  cleanbot = driver.find_element_by_css_selector('a.u_cbox_cleanbot_setbutton') # 클린봇 설정 버튼\n",
      "C:\\Users\\ChannelA\\AppData\\Local\\Temp/ipykernel_15400/2756502066.py:14: DeprecationWarning: find_element_by_xpath is deprecated. Please use find_element(by=By.XPATH, value=xpath) instead\n",
      "  cleanbot_disable = driver.find_element_by_xpath(\"//*[@id='cleanbot_dialog_checkbox_cbox_module']\") # 클린봇 해제 버튼\n",
      "C:\\Users\\ChannelA\\AppData\\Local\\Temp/ipykernel_15400/2756502066.py:17: DeprecationWarning: find_element_by_xpath is deprecated. Please use find_element(by=By.XPATH, value=xpath) instead\n",
      "  cleanbot_confirm = driver.find_element_by_xpath(\"/html/body/div[2]/div/div[2]/div[4]/button\") # 확인 버튼\n",
      "C:\\Users\\ChannelA\\AppData\\Local\\Temp/ipykernel_15400/2756502066.py:25: DeprecationWarning: find_element_by_css_selector is deprecated. Please use find_element(by=By.CSS_SELECTOR, value=css_selector) instead\n",
      "  btn_more = driver.find_element_by_css_selector('a.u_cbox_btn_more')\n",
      "C:\\Users\\ChannelA\\AppData\\Local\\Temp/ipykernel_15400/2756502066.py:32: DeprecationWarning: find_elements_by_css_selector is deprecated. Please use find_elements(by=By.CSS_SELECTOR, value=css_selector) instead\n",
      "  contents = driver.find_elements_by_css_selector('span.u_cbox_contents')\n"
     ]
    }
   ],
   "source": [
    "url = 'https://n.news.naver.com/article/011/0004076936?ntype=RANKING'\n",
    "idx = url.find('article')\n",
    "url_new = url[:idx+7]+'/comment'+url[idx+7:]\n",
    "\n",
    "#웹 드라이버\n",
    "driver = webdriver.Chrome('C:/Users/ChannelA/Practice/chromedriver.exe')\n",
    "driver.implicitly_wait(30)\n",
    "driver.get(url_new)\n",
    " \n",
    "#네이버의 경우, 클린봇으로 추출이 안되는게 있다, 클린봇 옵션 해제 후 추출해주도록 한다.\n",
    "cleanbot = driver.find_element_by_css_selector('a.u_cbox_cleanbot_setbutton') # 클린봇 설정 버튼\n",
    "cleanbot.click()\n",
    "time.sleep(1)\n",
    "cleanbot_disable = driver.find_element_by_xpath(\"//*[@id='cleanbot_dialog_checkbox_cbox_module']\") # 클린봇 해제 버튼\n",
    "cleanbot_disable.click()\n",
    "time.sleep(1)\n",
    "cleanbot_confirm = driver.find_element_by_xpath(\"/html/body/div[2]/div/div[2]/div[4]/button\") # 확인 버튼\n",
    "cleanbot_confirm.click()\n",
    "time.sleep(1)\n",
    " \n",
    "#더보기 계속 클릭하기\n",
    "cnt = 0\n",
    "while True:\n",
    "    try:\n",
    "        btn_more = driver.find_element_by_css_selector('a.u_cbox_btn_more')\n",
    "        btn_more.click()\n",
    "        # time.sleep(1)\n",
    "    except:\n",
    "        break\n",
    "        \n",
    "#댓글추출\n",
    "contents = driver.find_elements_by_css_selector('span.u_cbox_contents')\n",
    "comment_list = []\n",
    "\n",
    "for content in contents:\n",
    "    comment_list.append(content.text)"
   ]
  },
  {
   "cell_type": "code",
   "execution_count": 9,
   "id": "7b9bf906",
   "metadata": {
    "ExecuteTime": {
     "end_time": "2022-08-01T02:01:24.052097Z",
     "start_time": "2022-08-01T02:01:24.044966Z"
    }
   },
   "outputs": [
    {
     "data": {
      "text/html": [
       "<div>\n",
       "<style scoped>\n",
       "    .dataframe tbody tr th:only-of-type {\n",
       "        vertical-align: middle;\n",
       "    }\n",
       "\n",
       "    .dataframe tbody tr th {\n",
       "        vertical-align: top;\n",
       "    }\n",
       "\n",
       "    .dataframe thead th {\n",
       "        text-align: right;\n",
       "    }\n",
       "</style>\n",
       "<table border=\"1\" class=\"dataframe\">\n",
       "  <thead>\n",
       "    <tr style=\"text-align: right;\">\n",
       "      <th></th>\n",
       "      <th>comment</th>\n",
       "    </tr>\n",
       "  </thead>\n",
       "  <tbody>\n",
       "    <tr>\n",
       "      <th>0</th>\n",
       "      <td>ㅋㅋ 멀쩡한 mz세대를 다 호모게이로 만들어버리네</td>\n",
       "    </tr>\n",
       "    <tr>\n",
       "      <th>1</th>\n",
       "      <td>하이힐이 편하다니. 지나가던 소가 웃는다. 여자지만. 하이힐은 여자에게도 없어져야할...</td>\n",
       "    </tr>\n",
       "    <tr>\n",
       "      <th>2</th>\n",
       "      <td>저건 패션이 아니고 정신질환이다.</td>\n",
       "    </tr>\n",
       "    <tr>\n",
       "      <th>3</th>\n",
       "      <td>자기아버지가 미니스커트,미니원피스입고 출근한다고 상상해봐라 절대로 못받아들인다. 입...</td>\n",
       "    </tr>\n",
       "    <tr>\n",
       "      <th>4</th>\n",
       "      <td>젠더리스는 무슨..게이문화를 그럴듯하게 포장한 말이지 그리고 일부 극소수를 마치 그...</td>\n",
       "    </tr>\n",
       "  </tbody>\n",
       "</table>\n",
       "</div>"
      ],
      "text/plain": [
       "                                             comment\n",
       "0                        ㅋㅋ 멀쩡한 mz세대를 다 호모게이로 만들어버리네\n",
       "1  하이힐이 편하다니. 지나가던 소가 웃는다. 여자지만. 하이힐은 여자에게도 없어져야할...\n",
       "2                                 저건 패션이 아니고 정신질환이다.\n",
       "3  자기아버지가 미니스커트,미니원피스입고 출근한다고 상상해봐라 절대로 못받아들인다. 입...\n",
       "4  젠더리스는 무슨..게이문화를 그럴듯하게 포장한 말이지 그리고 일부 극소수를 마치 그..."
      ]
     },
     "execution_count": 9,
     "metadata": {},
     "output_type": "execute_result"
    }
   ],
   "source": [
    "df1 = pd.DataFrame({'comment':comment_list})\n",
    "df1.head()"
   ]
  },
  {
   "cell_type": "code",
   "execution_count": 11,
   "id": "ae810e69",
   "metadata": {
    "ExecuteTime": {
     "end_time": "2022-08-01T02:05:45.636934Z",
     "start_time": "2022-08-01T02:05:45.628933Z"
    }
   },
   "outputs": [
    {
     "data": {
      "text/html": [
       "<div>\n",
       "<style scoped>\n",
       "    .dataframe tbody tr th:only-of-type {\n",
       "        vertical-align: middle;\n",
       "    }\n",
       "\n",
       "    .dataframe tbody tr th {\n",
       "        vertical-align: top;\n",
       "    }\n",
       "\n",
       "    .dataframe thead th {\n",
       "        text-align: right;\n",
       "    }\n",
       "</style>\n",
       "<table border=\"1\" class=\"dataframe\">\n",
       "  <thead>\n",
       "    <tr style=\"text-align: right;\">\n",
       "      <th></th>\n",
       "      <th>comment</th>\n",
       "    </tr>\n",
       "  </thead>\n",
       "  <tbody>\n",
       "    <tr>\n",
       "      <th>913</th>\n",
       "      <td>엄마 엄마 ~ 하고 5살 아이가 물엇다 젠더리뜨가 모야? 난 대답햇다 응 그건 남자...</td>\n",
       "    </tr>\n",
       "    <tr>\n",
       "      <th>914</th>\n",
       "      <td>하든지 말든지 나한테 피해만 안주면 뎀</td>\n",
       "    </tr>\n",
       "    <tr>\n",
       "      <th>915</th>\n",
       "      <td>자기 살고 싶은대로 사는 거지 꼰대들 오지랖은 ㅋㅋ</td>\n",
       "    </tr>\n",
       "    <tr>\n",
       "      <th>916</th>\n",
       "      <td>저게 대세다 너무 한정적으로 옷을 입으면 그게 옷일까 구시대적인사고방식 다 지키고 ...</td>\n",
       "    </tr>\n",
       "    <tr>\n",
       "      <th>917</th>\n",
       "      <td>남자가 치마 입고 하이힐 신는다는게 이상하다고 느껴지시는 분들은 꼰대다!</td>\n",
       "    </tr>\n",
       "  </tbody>\n",
       "</table>\n",
       "</div>"
      ],
      "text/plain": [
       "                                               comment\n",
       "913  엄마 엄마 ~ 하고 5살 아이가 물엇다 젠더리뜨가 모야? 난 대답햇다 응 그건 남자...\n",
       "914                              하든지 말든지 나한테 피해만 안주면 뎀\n",
       "915                       자기 살고 싶은대로 사는 거지 꼰대들 오지랖은 ㅋㅋ\n",
       "916  저게 대세다 너무 한정적으로 옷을 입으면 그게 옷일까 구시대적인사고방식 다 지키고 ...\n",
       "917           남자가 치마 입고 하이힐 신는다는게 이상하다고 느껴지시는 분들은 꼰대다!"
      ]
     },
     "execution_count": 11,
     "metadata": {},
     "output_type": "execute_result"
    }
   ],
   "source": [
    "df1.tail()"
   ]
  },
  {
   "cell_type": "markdown",
   "id": "20d49190",
   "metadata": {},
   "source": [
    "## 네이버 뉴스 크롤링(클린봇 ON)"
   ]
  },
  {
   "cell_type": "code",
   "execution_count": 18,
   "id": "daa2a495",
   "metadata": {
    "ExecuteTime": {
     "end_time": "2022-08-01T02:08:02.310539Z",
     "start_time": "2022-08-01T02:06:48.978423Z"
    }
   },
   "outputs": [
    {
     "name": "stderr",
     "output_type": "stream",
     "text": [
      "C:\\Users\\ChannelA\\AppData\\Local\\Temp/ipykernel_15400/2801461495.py:2: DeprecationWarning: executable_path has been deprecated, please pass in a Service object\n",
      "  driver = webdriver.Chrome('C:/Users/ChannelA/Practice/chromedriver.exe')\n",
      "C:\\Users\\ChannelA\\AppData\\Local\\Temp/ipykernel_15400/2801461495.py:10: DeprecationWarning: find_element_by_css_selector is deprecated. Please use find_element(by=By.CSS_SELECTOR, value=css_selector) instead\n",
      "  btn_more = driver.find_element_by_css_selector('a.u_cbox_btn_more')\n",
      "C:\\Users\\ChannelA\\AppData\\Local\\Temp/ipykernel_15400/2801461495.py:17: DeprecationWarning: find_elements_by_css_selector is deprecated. Please use find_elements(by=By.CSS_SELECTOR, value=css_selector) instead\n",
      "  contents = driver.find_elements_by_css_selector('span.u_cbox_contents')\n"
     ]
    }
   ],
   "source": [
    "#웹 드라이버\n",
    "driver = webdriver.Chrome('C:/Users/ChannelA/Practice/chromedriver.exe')\n",
    "driver.implicitly_wait(30)\n",
    "driver.get(url_new)\n",
    " \n",
    "#더보기 계속 클릭하기\n",
    "cnt = 0\n",
    "while True:\n",
    "    try:\n",
    "        btn_more = driver.find_element_by_css_selector('a.u_cbox_btn_more')\n",
    "        btn_more.click()\n",
    "        # time.sleep(1)\n",
    "    except:\n",
    "        break\n",
    "        \n",
    "#댓글추출\n",
    "contents = driver.find_elements_by_css_selector('span.u_cbox_contents')\n",
    "comment_list = []\n",
    "\n",
    "for content in contents:\n",
    "    comment_list.append(content.text)"
   ]
  },
  {
   "cell_type": "code",
   "execution_count": 19,
   "id": "09c16867",
   "metadata": {
    "ExecuteTime": {
     "end_time": "2022-08-01T02:08:02.349762Z",
     "start_time": "2022-08-01T02:08:02.341763Z"
    }
   },
   "outputs": [
    {
     "data": {
      "text/html": [
       "<div>\n",
       "<style scoped>\n",
       "    .dataframe tbody tr th:only-of-type {\n",
       "        vertical-align: middle;\n",
       "    }\n",
       "\n",
       "    .dataframe tbody tr th {\n",
       "        vertical-align: top;\n",
       "    }\n",
       "\n",
       "    .dataframe thead th {\n",
       "        text-align: right;\n",
       "    }\n",
       "</style>\n",
       "<table border=\"1\" class=\"dataframe\">\n",
       "  <thead>\n",
       "    <tr style=\"text-align: right;\">\n",
       "      <th></th>\n",
       "      <th>comment</th>\n",
       "    </tr>\n",
       "  </thead>\n",
       "  <tbody>\n",
       "    <tr>\n",
       "      <th>0</th>\n",
       "      <td>ㅋㅋ 멀쩡한 mz세대를 다 호모게이로 만들어버리네</td>\n",
       "    </tr>\n",
       "    <tr>\n",
       "      <th>1</th>\n",
       "      <td>하이힐이 편하다니. 지나가던 소가 웃는다. 여자지만. 하이힐은 여자에게도 없어져야할...</td>\n",
       "    </tr>\n",
       "    <tr>\n",
       "      <th>2</th>\n",
       "      <td>저건 패션이 아니고 정신질환이다.</td>\n",
       "    </tr>\n",
       "    <tr>\n",
       "      <th>3</th>\n",
       "      <td>자기아버지가 미니스커트,미니원피스입고 출근한다고 상상해봐라 절대로 못받아들인다. 입...</td>\n",
       "    </tr>\n",
       "    <tr>\n",
       "      <th>4</th>\n",
       "      <td>젠더리스는 무슨..게이문화를 그럴듯하게 포장한 말이지 그리고 일부 극소수를 마치 그...</td>\n",
       "    </tr>\n",
       "  </tbody>\n",
       "</table>\n",
       "</div>"
      ],
      "text/plain": [
       "                                             comment\n",
       "0                        ㅋㅋ 멀쩡한 mz세대를 다 호모게이로 만들어버리네\n",
       "1  하이힐이 편하다니. 지나가던 소가 웃는다. 여자지만. 하이힐은 여자에게도 없어져야할...\n",
       "2                                 저건 패션이 아니고 정신질환이다.\n",
       "3  자기아버지가 미니스커트,미니원피스입고 출근한다고 상상해봐라 절대로 못받아들인다. 입...\n",
       "4  젠더리스는 무슨..게이문화를 그럴듯하게 포장한 말이지 그리고 일부 극소수를 마치 그..."
      ]
     },
     "execution_count": 19,
     "metadata": {},
     "output_type": "execute_result"
    }
   ],
   "source": [
    "df2 = pd.DataFrame({'comment':comment_list})\n",
    "df2.head()"
   ]
  },
  {
   "cell_type": "code",
   "execution_count": 21,
   "id": "8680af3b",
   "metadata": {
    "ExecuteTime": {
     "end_time": "2022-08-01T02:08:02.416043Z",
     "start_time": "2022-08-01T02:08:02.410042Z"
    }
   },
   "outputs": [
    {
     "data": {
      "text/html": [
       "<div>\n",
       "<style scoped>\n",
       "    .dataframe tbody tr th:only-of-type {\n",
       "        vertical-align: middle;\n",
       "    }\n",
       "\n",
       "    .dataframe tbody tr th {\n",
       "        vertical-align: top;\n",
       "    }\n",
       "\n",
       "    .dataframe thead th {\n",
       "        text-align: right;\n",
       "    }\n",
       "</style>\n",
       "<table border=\"1\" class=\"dataframe\">\n",
       "  <thead>\n",
       "    <tr style=\"text-align: right;\">\n",
       "      <th></th>\n",
       "      <th>comment</th>\n",
       "    </tr>\n",
       "  </thead>\n",
       "  <tbody>\n",
       "    <tr>\n",
       "      <th>0</th>\n",
       "      <td>ㅋㅋ 멀쩡한 mz세대를 다 호모게이로 만들어버리네</td>\n",
       "    </tr>\n",
       "    <tr>\n",
       "      <th>1</th>\n",
       "      <td>하이힐이 편하다니. 지나가던 소가 웃는다. 여자지만. 하이힐은 여자에게도 없어져야할...</td>\n",
       "    </tr>\n",
       "    <tr>\n",
       "      <th>2</th>\n",
       "      <td>저건 패션이 아니고 정신질환이다.</td>\n",
       "    </tr>\n",
       "    <tr>\n",
       "      <th>3</th>\n",
       "      <td>자기아버지가 미니스커트,미니원피스입고 출근한다고 상상해봐라 절대로 못받아들인다. 입...</td>\n",
       "    </tr>\n",
       "    <tr>\n",
       "      <th>4</th>\n",
       "      <td>젠더리스는 무슨..게이문화를 그럴듯하게 포장한 말이지 그리고 일부 극소수를 마치 그...</td>\n",
       "    </tr>\n",
       "  </tbody>\n",
       "</table>\n",
       "</div>"
      ],
      "text/plain": [
       "                                             comment\n",
       "0                        ㅋㅋ 멀쩡한 mz세대를 다 호모게이로 만들어버리네\n",
       "1  하이힐이 편하다니. 지나가던 소가 웃는다. 여자지만. 하이힐은 여자에게도 없어져야할...\n",
       "2                                 저건 패션이 아니고 정신질환이다.\n",
       "3  자기아버지가 미니스커트,미니원피스입고 출근한다고 상상해봐라 절대로 못받아들인다. 입...\n",
       "4  젠더리스는 무슨..게이문화를 그럴듯하게 포장한 말이지 그리고 일부 극소수를 마치 그..."
      ]
     },
     "execution_count": 21,
     "metadata": {},
     "output_type": "execute_result"
    }
   ],
   "source": [
    "df2.head()"
   ]
  },
  {
   "cell_type": "code",
   "execution_count": 22,
   "id": "0e76393e",
   "metadata": {
    "ExecuteTime": {
     "end_time": "2022-08-01T02:08:02.446044Z",
     "start_time": "2022-08-01T02:08:02.440042Z"
    }
   },
   "outputs": [
    {
     "data": {
      "text/html": [
       "<div>\n",
       "<style scoped>\n",
       "    .dataframe tbody tr th:only-of-type {\n",
       "        vertical-align: middle;\n",
       "    }\n",
       "\n",
       "    .dataframe tbody tr th {\n",
       "        vertical-align: top;\n",
       "    }\n",
       "\n",
       "    .dataframe thead th {\n",
       "        text-align: right;\n",
       "    }\n",
       "</style>\n",
       "<table border=\"1\" class=\"dataframe\">\n",
       "  <thead>\n",
       "    <tr style=\"text-align: right;\">\n",
       "      <th></th>\n",
       "      <th>comment</th>\n",
       "    </tr>\n",
       "  </thead>\n",
       "  <tbody>\n",
       "    <tr>\n",
       "      <th>838</th>\n",
       "      <td>엄마 엄마 ~ 하고 5살 아이가 물엇다 젠더리뜨가 모야? 난 대답햇다 응 그건 남자...</td>\n",
       "    </tr>\n",
       "    <tr>\n",
       "      <th>839</th>\n",
       "      <td>하든지 말든지 나한테 피해만 안주면 뎀</td>\n",
       "    </tr>\n",
       "    <tr>\n",
       "      <th>840</th>\n",
       "      <td>자기 살고 싶은대로 사는 거지 꼰대들 오지랖은 ㅋㅋ</td>\n",
       "    </tr>\n",
       "    <tr>\n",
       "      <th>841</th>\n",
       "      <td>저게 대세다 너무 한정적으로 옷을 입으면 그게 옷일까 구시대적인사고방식 다 지키고 ...</td>\n",
       "    </tr>\n",
       "    <tr>\n",
       "      <th>842</th>\n",
       "      <td>남자가 치마 입고 하이힐 신는다는게 이상하다고 느껴지시는 분들은 꼰대다!</td>\n",
       "    </tr>\n",
       "  </tbody>\n",
       "</table>\n",
       "</div>"
      ],
      "text/plain": [
       "                                               comment\n",
       "838  엄마 엄마 ~ 하고 5살 아이가 물엇다 젠더리뜨가 모야? 난 대답햇다 응 그건 남자...\n",
       "839                              하든지 말든지 나한테 피해만 안주면 뎀\n",
       "840                       자기 살고 싶은대로 사는 거지 꼰대들 오지랖은 ㅋㅋ\n",
       "841  저게 대세다 너무 한정적으로 옷을 입으면 그게 옷일까 구시대적인사고방식 다 지키고 ...\n",
       "842           남자가 치마 입고 하이힐 신는다는게 이상하다고 느껴지시는 분들은 꼰대다!"
      ]
     },
     "execution_count": 22,
     "metadata": {},
     "output_type": "execute_result"
    }
   ],
   "source": [
    "df2.tail()"
   ]
  },
  {
   "cell_type": "markdown",
   "id": "69663af9",
   "metadata": {},
   "source": [
    "## 클린봇이 제거한 댓글 찾기\n",
    "출처 : https://pmandocom.tistory.com/34"
   ]
  },
  {
   "cell_type": "code",
   "execution_count": 23,
   "id": "d229d1c2",
   "metadata": {
    "ExecuteTime": {
     "end_time": "2022-08-01T02:09:13.508322Z",
     "start_time": "2022-08-01T02:09:13.504138Z"
    }
   },
   "outputs": [],
   "source": [
    "def GetDifferences(df1, df2):\n",
    "  df = pd.concat([df1, df2]).reset_index(drop=True)\n",
    "  idx = [diff[0] for diff in df.groupby(list(df.columns)).groups.values() if len(diff) == 1]\n",
    "  return df.reindex(idx)"
   ]
  },
  {
   "cell_type": "code",
   "execution_count": 26,
   "id": "5ac4aaa9",
   "metadata": {
    "ExecuteTime": {
     "end_time": "2022-08-01T02:10:10.146279Z",
     "start_time": "2022-08-01T02:10:10.133525Z"
    }
   },
   "outputs": [],
   "source": [
    "df_diff = GetDifferences(df1, df2)"
   ]
  },
  {
   "cell_type": "code",
   "execution_count": 32,
   "id": "e9101fa8",
   "metadata": {
    "ExecuteTime": {
     "end_time": "2022-08-01T02:12:07.164639Z",
     "start_time": "2022-08-01T02:12:07.153845Z"
    }
   },
   "outputs": [
    {
     "data": {
      "text/html": [
       "<div>\n",
       "<style scoped>\n",
       "    .dataframe tbody tr th:only-of-type {\n",
       "        vertical-align: middle;\n",
       "    }\n",
       "\n",
       "    .dataframe tbody tr th {\n",
       "        vertical-align: top;\n",
       "    }\n",
       "\n",
       "    .dataframe thead th {\n",
       "        text-align: right;\n",
       "    }\n",
       "</style>\n",
       "<table border=\"1\" class=\"dataframe\">\n",
       "  <thead>\n",
       "    <tr style=\"text-align: right;\">\n",
       "      <th></th>\n",
       "      <th>index</th>\n",
       "      <th>comment</th>\n",
       "    </tr>\n",
       "  </thead>\n",
       "  <tbody>\n",
       "    <tr>\n",
       "      <th>0</th>\n",
       "      <td>572</td>\n",
       "      <td>MZ가 40대까진건 알지? ㅋㅋㅅㅂ</td>\n",
       "    </tr>\n",
       "    <tr>\n",
       "      <th>1</th>\n",
       "      <td>693</td>\n",
       "      <td>OOO 수술하라고 정신병놈들아</td>\n",
       "    </tr>\n",
       "    <tr>\n",
       "      <th>2</th>\n",
       "      <td>512</td>\n",
       "      <td>OOOㅡㅡ 미개한게이들이네</td>\n",
       "    </tr>\n",
       "    <tr>\n",
       "      <th>3</th>\n",
       "      <td>766</td>\n",
       "      <td>OOO들</td>\n",
       "    </tr>\n",
       "    <tr>\n",
       "      <th>4</th>\n",
       "      <td>442</td>\n",
       "      <td>OOO를잘라버려라</td>\n",
       "    </tr>\n",
       "    <tr>\n",
       "      <th>...</th>\n",
       "      <td>...</td>\n",
       "      <td>...</td>\n",
       "    </tr>\n",
       "    <tr>\n",
       "      <th>70</th>\n",
       "      <td>312</td>\n",
       "      <td>진짜 ㅈㄹ하네</td>\n",
       "    </tr>\n",
       "    <tr>\n",
       "      <th>71</th>\n",
       "      <td>637</td>\n",
       "      <td>진짜 개역겨워.. 토나올것같아</td>\n",
       "    </tr>\n",
       "    <tr>\n",
       "      <th>72</th>\n",
       "      <td>165</td>\n",
       "      <td>캬악 퉤</td>\n",
       "    </tr>\n",
       "    <tr>\n",
       "      <th>73</th>\n",
       "      <td>797</td>\n",
       "      <td>패죽이고 싶게 생겻노 ㅋㅋㅋ</td>\n",
       "    </tr>\n",
       "    <tr>\n",
       "      <th>74</th>\n",
       "      <td>630</td>\n",
       "      <td>홍대나 이태원가서 죽치고 있어도 한명 볼까 말깐데 무조건 MZ 가져다 붙이는 OOO...</td>\n",
       "    </tr>\n",
       "  </tbody>\n",
       "</table>\n",
       "<p>75 rows × 2 columns</p>\n",
       "</div>"
      ],
      "text/plain": [
       "    index                                            comment\n",
       "0     572                                MZ가 40대까진건 알지? ㅋㅋㅅㅂ\n",
       "1     693                                   OOO 수술하라고 정신병놈들아\n",
       "2     512                                     OOOㅡㅡ 미개한게이들이네\n",
       "3     766                                               OOO들\n",
       "4     442                                          OOO를잘라버려라\n",
       "..    ...                                                ...\n",
       "70    312                                            진짜 ㅈㄹ하네\n",
       "71    637                                   진짜 개역겨워.. 토나올것같아\n",
       "72    165                                               캬악 퉤\n",
       "73    797                                    패죽이고 싶게 생겻노 ㅋㅋㅋ\n",
       "74    630  홍대나 이태원가서 죽치고 있어도 한명 볼까 말깐데 무조건 MZ 가져다 붙이는 OOO...\n",
       "\n",
       "[75 rows x 2 columns]"
      ]
     },
     "execution_count": 32,
     "metadata": {},
     "output_type": "execute_result"
    }
   ],
   "source": [
    "df_diff.reset_index(drop=False)"
   ]
  },
  {
   "cell_type": "code",
   "execution_count": 39,
   "id": "44c533c6",
   "metadata": {
    "ExecuteTime": {
     "end_time": "2022-08-01T02:14:10.284612Z",
     "start_time": "2022-08-01T02:14:10.268475Z"
    }
   },
   "outputs": [],
   "source": [
    "df_diff.to_csv('./네이버뉴스_욕설.csv',index=False,encoding='utf-8-sig')"
   ]
  }
 ],
 "metadata": {
  "kernelspec": {
   "display_name": "Python 3 (ipykernel)",
   "language": "python",
   "name": "python3"
  },
  "language_info": {
   "codemirror_mode": {
    "name": "ipython",
    "version": 3
   },
   "file_extension": ".py",
   "mimetype": "text/x-python",
   "name": "python",
   "nbconvert_exporter": "python",
   "pygments_lexer": "ipython3",
   "version": "3.9.7"
  },
  "toc": {
   "base_numbering": 1,
   "nav_menu": {},
   "number_sections": true,
   "sideBar": true,
   "skip_h1_title": false,
   "title_cell": "Table of Contents",
   "title_sidebar": "Contents",
   "toc_cell": false,
   "toc_position": {},
   "toc_section_display": true,
   "toc_window_display": false
  },
  "varInspector": {
   "cols": {
    "lenName": 16,
    "lenType": 16,
    "lenVar": 40
   },
   "kernels_config": {
    "python": {
     "delete_cmd_postfix": "",
     "delete_cmd_prefix": "del ",
     "library": "var_list.py",
     "varRefreshCmd": "print(var_dic_list())"
    },
    "r": {
     "delete_cmd_postfix": ") ",
     "delete_cmd_prefix": "rm(",
     "library": "var_list.r",
     "varRefreshCmd": "cat(var_dic_list()) "
    }
   },
   "types_to_exclude": [
    "module",
    "function",
    "builtin_function_or_method",
    "instance",
    "_Feature"
   ],
   "window_display": false
  }
 },
 "nbformat": 4,
 "nbformat_minor": 5
}
