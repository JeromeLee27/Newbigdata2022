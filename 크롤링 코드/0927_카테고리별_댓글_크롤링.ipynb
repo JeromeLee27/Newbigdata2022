{
 "cells": [
  {
   "cell_type": "code",
   "execution_count": 18,
   "id": "b06d8588",
   "metadata": {
    "ExecuteTime": {
     "end_time": "2022-09-27T02:02:32.658112Z",
     "start_time": "2022-09-27T02:02:24.370459Z"
    }
   },
   "outputs": [],
   "source": [
    "import pandas as pd"
   ]
  },
  {
   "cell_type": "code",
   "execution_count": 19,
   "id": "d35d00dd",
   "metadata": {
    "ExecuteTime": {
     "end_time": "2022-09-27T02:02:32.775929Z",
     "start_time": "2022-09-27T02:02:32.661105Z"
    }
   },
   "outputs": [],
   "source": [
    "# 빅카인즈에서 내려받은 엑셀 업로드\n",
    "df = pd.read_csv('./성범죄_0826_0902.csv')"
   ]
  },
  {
   "cell_type": "code",
   "execution_count": 20,
   "id": "d804995d",
   "metadata": {
    "ExecuteTime": {
     "end_time": "2022-09-27T02:02:32.800060Z",
     "start_time": "2022-09-27T02:02:32.778846Z"
    },
    "scrolled": true
   },
   "outputs": [
    {
     "data": {
      "text/plain": [
       "0      ‘미성년 11명 성폭행’ 김근식 내달 출소 법무부 “1대 1 전자감독 대상”\n",
       "1                     [단독] 교사도, 강사도 ‘엘’은 어디에나 있었다\n",
       "2                 미성년 12명 성폭행 김근식, 10월 출소 불안한 주민들\n",
       "3                  \"야채만 먹였다\" 18개월 아들 영양실조로 죽게한 엄마\n",
       "4                 미성년 11명 유린 성폭행범 출소 \"전자발찌 채운다는데\"\n",
       "                          ...                    \n",
       "470          “명백한 동의 없다면 성폭행” 스페인 ‘비동의 강간죄’ 만들어진다\n",
       "471                                     [분수대] 음성권\n",
       "472         미성년자 성매매 강요 영리 취득 검찰, 조직 1명에 징역 7년 구형\n",
       "473            성추행 갑질논란 체육회 전간부, 벌금형 40시간 치료교육 명령\n",
       "474              [꿈꾸는 경기교육] 낙태가 아닌 임신 중단으로 불리는 그날\n",
       "Name: 제목, Length: 475, dtype: object"
      ]
     },
     "execution_count": 20,
     "metadata": {},
     "output_type": "execute_result"
    }
   ],
   "source": [
    "# 제목만 따오기\n",
    "title_list=df['제목']\n",
    "title_list"
   ]
  },
  {
   "cell_type": "markdown",
   "id": "f63383d1",
   "metadata": {},
   "source": [
    "# 네이버 댓글 url 가져오기"
   ]
  },
  {
   "cell_type": "code",
   "execution_count": 21,
   "id": "5381d86c",
   "metadata": {
    "ExecuteTime": {
     "end_time": "2022-09-27T02:02:34.420274Z",
     "start_time": "2022-09-27T02:02:32.806041Z"
    }
   },
   "outputs": [],
   "source": [
    "from selenium import webdriver\n",
    "import time\n",
    "\n",
    "driver = webdriver.Chrome('./chromedriver')\n",
    "driver.implicitly_wait(2)"
   ]
  },
  {
   "cell_type": "code",
   "execution_count": 22,
   "id": "a5bc2a5a",
   "metadata": {
    "ExecuteTime": {
     "end_time": "2022-09-27T02:24:05.306531Z",
     "start_time": "2022-09-27T02:02:34.426130Z"
    }
   },
   "outputs": [],
   "source": [
    "# 매크로 방지 피하기 위해 wait을 걸어줍니다\n",
    "driver.implicitly_wait(2)\n",
    "\n",
    "# url 넣을 리스트 생성\n",
    "url_list = []\n",
    "\n",
    "for title in title_list:\n",
    "    try:\n",
    "        url_format = 'https://search.naver.com/search.naver?where=news&query={}&sm=tab_dgs&qdt=0'\n",
    "        # 검색 결과 창 띄우기\n",
    "        driver.get(url_format.format(title))\n",
    "        time.sleep(2)\n",
    "\n",
    "        # 기사 섹션 접근\n",
    "        list_news = driver.find_element_by_class_name('group_news')\n",
    "        li = list_news.find_element_by_tag_name('li')\n",
    "\n",
    "        # '네이버뉴스' 클릭할 수 있는 상단 섹션 접근\n",
    "        info_group = li.find_element_by_class_name('info_group')\n",
    "\n",
    "        # 모든 url 가져오기\n",
    "        a_s = info_group.find_elements_by_tag_name('a')\n",
    "\n",
    "        # url 중 네이버뉴스에 해당하는 url만 리스트에 추가\n",
    "        for a in a_s:\n",
    "            url = a.get_attribute('href')\n",
    "\n",
    "            if 'naver' in url:\n",
    "                url_list.append(url)\n",
    "    except:\n",
    "        continue"
   ]
  },
  {
   "cell_type": "code",
   "execution_count": 23,
   "id": "887927ce",
   "metadata": {
    "ExecuteTime": {
     "end_time": "2022-09-27T02:24:05.324289Z",
     "start_time": "2022-09-27T02:24:05.313237Z"
    }
   },
   "outputs": [],
   "source": [
    "# 스포츠뉴스 url은 형식이 달라서 삭제 처리    \n",
    "url_list = [s for s in url_list if \"sports\" not in s] "
   ]
  },
  {
   "cell_type": "code",
   "execution_count": 49,
   "id": "0be865e7",
   "metadata": {
    "ExecuteTime": {
     "end_time": "2022-09-27T03:25:10.373516Z",
     "start_time": "2022-09-27T03:25:10.363806Z"
    }
   },
   "outputs": [
    {
     "data": {
      "text/plain": [
       "430"
      ]
     },
     "execution_count": 49,
     "metadata": {},
     "output_type": "execute_result"
    }
   ],
   "source": [
    "len(url_list)"
   ]
  },
  {
   "cell_type": "markdown",
   "id": "0f45b8a1",
   "metadata": {},
   "source": [
    "# 댓글 url에서 댓글 크롤링"
   ]
  },
  {
   "cell_type": "code",
   "execution_count": 47,
   "id": "905eef66",
   "metadata": {
    "ExecuteTime": {
     "end_time": "2022-09-27T03:04:12.995378Z",
     "start_time": "2022-09-27T03:03:41.125694Z"
    }
   },
   "outputs": [],
   "source": [
    "driver = webdriver.Chrome('./chromedriver.exe')\n",
    "comment_df = pd.DataFrame(columns={'comment','title'})\n",
    "\n",
    "# 클린봇 버튼을 1번만 눌러야해서 1번째 url만 실행\n",
    "for url in url_list[:1]:\n",
    "    idx = url.find('article')\n",
    "    url_new = url[:idx+7]+'/comment'+url[idx+7:]\n",
    "\n",
    "    #웹 드라이버\n",
    "    driver.implicitly_wait(3)\n",
    "    driver.get(url_new)\n",
    "\n",
    "    #네이버의 경우, 클린봇으로 추출이 안되는게 있다, 클린봇 옵션 해제 후 추출해주도록 한다.\n",
    "    cleanbot = driver.find_element_by_css_selector('a.u_cbox_cleanbot_setbutton') # 클린봇 설정 버튼\n",
    "    cleanbot.click()\n",
    "    time.sleep(1)\n",
    "    cleanbot_disable = driver.find_element_by_xpath(\"//*[@id='cleanbot_dialog_checkbox_cbox_module']\") # 클린봇 해제 버튼\n",
    "    cleanbot_disable.click()\n",
    "    time.sleep(1)\n",
    "    cleanbot_confirm = driver.find_element_by_xpath(\"/html/body/div[2]/div/div[2]/div[4]/button\") # 확인 버튼\n",
    "    cleanbot_confirm.click()\n",
    "    time.sleep(1)\n",
    "\n",
    "    #더보기 계속 클릭하기\n",
    "    cnt = 0\n",
    "    while True:\n",
    "        try:\n",
    "            btn_more = driver.find_element_by_css_selector('a.u_cbox_btn_more')\n",
    "            btn_more.click()\n",
    "            # time.sleep(1)\n",
    "        except:\n",
    "            break\n",
    "    \n",
    "    #제목추출\n",
    "    title = driver.find_element_by_class_name('media_end_head_headline')\n",
    "    #댓글추출\n",
    "    contents = driver.find_elements_by_css_selector('span.u_cbox_contents')\n",
    "\n",
    "    for content in contents:\n",
    "        comment_df = comment_df.append({'comment':content.text, 'title':title.text}, ignore_index=True)"
   ]
  },
  {
   "cell_type": "code",
   "execution_count": 51,
   "id": "74719bce",
   "metadata": {
    "ExecuteTime": {
     "end_time": "2022-09-27T05:28:43.961397Z",
     "start_time": "2022-09-27T03:25:24.824604Z"
    }
   },
   "outputs": [
    {
     "ename": "KeyboardInterrupt",
     "evalue": "",
     "output_type": "error",
     "traceback": [
      "\u001b[1;31m---------------------------------------------------------------------------\u001b[0m",
      "\u001b[1;31mKeyboardInterrupt\u001b[0m                         Traceback (most recent call last)",
      "\u001b[1;32mC:\\Users\\SUYOUN~1\\AppData\\Local\\Temp/ipykernel_20764/284139422.py\u001b[0m in \u001b[0;36m<module>\u001b[1;34m\u001b[0m\n\u001b[0;32m     25\u001b[0m \u001b[1;33m\u001b[0m\u001b[0m\n\u001b[0;32m     26\u001b[0m     \u001b[1;32mfor\u001b[0m \u001b[0mcontent\u001b[0m \u001b[1;32min\u001b[0m \u001b[0mcontents\u001b[0m\u001b[1;33m:\u001b[0m\u001b[1;33m\u001b[0m\u001b[1;33m\u001b[0m\u001b[0m\n\u001b[1;32m---> 27\u001b[1;33m         \u001b[0mcomment_df\u001b[0m \u001b[1;33m=\u001b[0m \u001b[0mcomment_df\u001b[0m\u001b[1;33m.\u001b[0m\u001b[0mappend\u001b[0m\u001b[1;33m(\u001b[0m\u001b[1;33m{\u001b[0m\u001b[1;34m'comment'\u001b[0m\u001b[1;33m:\u001b[0m\u001b[0mcontent\u001b[0m\u001b[1;33m.\u001b[0m\u001b[0mtext\u001b[0m\u001b[1;33m,\u001b[0m \u001b[1;34m'title'\u001b[0m\u001b[1;33m:\u001b[0m\u001b[0mtitle\u001b[0m\u001b[1;33m.\u001b[0m\u001b[0mtext\u001b[0m\u001b[1;33m}\u001b[0m\u001b[1;33m,\u001b[0m \u001b[0mignore_index\u001b[0m\u001b[1;33m=\u001b[0m\u001b[1;32mTrue\u001b[0m\u001b[1;33m)\u001b[0m\u001b[1;33m\u001b[0m\u001b[1;33m\u001b[0m\u001b[0m\n\u001b[0m",
      "\u001b[1;32m~\\anaconda3\\lib\\site-packages\\selenium\\webdriver\\remote\\webelement.py\u001b[0m in \u001b[0;36mtext\u001b[1;34m(self)\u001b[0m\n\u001b[0;32m     74\u001b[0m     \u001b[1;32mdef\u001b[0m \u001b[0mtext\u001b[0m\u001b[1;33m(\u001b[0m\u001b[0mself\u001b[0m\u001b[1;33m)\u001b[0m\u001b[1;33m:\u001b[0m\u001b[1;33m\u001b[0m\u001b[1;33m\u001b[0m\u001b[0m\n\u001b[0;32m     75\u001b[0m         \u001b[1;34m\"\"\"The text of the element.\"\"\"\u001b[0m\u001b[1;33m\u001b[0m\u001b[1;33m\u001b[0m\u001b[0m\n\u001b[1;32m---> 76\u001b[1;33m         \u001b[1;32mreturn\u001b[0m \u001b[0mself\u001b[0m\u001b[1;33m.\u001b[0m\u001b[0m_execute\u001b[0m\u001b[1;33m(\u001b[0m\u001b[0mCommand\u001b[0m\u001b[1;33m.\u001b[0m\u001b[0mGET_ELEMENT_TEXT\u001b[0m\u001b[1;33m)\u001b[0m\u001b[1;33m[\u001b[0m\u001b[1;34m'value'\u001b[0m\u001b[1;33m]\u001b[0m\u001b[1;33m\u001b[0m\u001b[1;33m\u001b[0m\u001b[0m\n\u001b[0m\u001b[0;32m     77\u001b[0m \u001b[1;33m\u001b[0m\u001b[0m\n\u001b[0;32m     78\u001b[0m     \u001b[1;32mdef\u001b[0m \u001b[0mclick\u001b[0m\u001b[1;33m(\u001b[0m\u001b[0mself\u001b[0m\u001b[1;33m)\u001b[0m\u001b[1;33m:\u001b[0m\u001b[1;33m\u001b[0m\u001b[1;33m\u001b[0m\u001b[0m\n",
      "\u001b[1;32m~\\anaconda3\\lib\\site-packages\\selenium\\webdriver\\remote\\webelement.py\u001b[0m in \u001b[0;36m_execute\u001b[1;34m(self, command, params)\u001b[0m\n\u001b[0;32m    631\u001b[0m             \u001b[0mparams\u001b[0m \u001b[1;33m=\u001b[0m \u001b[1;33m{\u001b[0m\u001b[1;33m}\u001b[0m\u001b[1;33m\u001b[0m\u001b[1;33m\u001b[0m\u001b[0m\n\u001b[0;32m    632\u001b[0m         \u001b[0mparams\u001b[0m\u001b[1;33m[\u001b[0m\u001b[1;34m'id'\u001b[0m\u001b[1;33m]\u001b[0m \u001b[1;33m=\u001b[0m \u001b[0mself\u001b[0m\u001b[1;33m.\u001b[0m\u001b[0m_id\u001b[0m\u001b[1;33m\u001b[0m\u001b[1;33m\u001b[0m\u001b[0m\n\u001b[1;32m--> 633\u001b[1;33m         \u001b[1;32mreturn\u001b[0m \u001b[0mself\u001b[0m\u001b[1;33m.\u001b[0m\u001b[0m_parent\u001b[0m\u001b[1;33m.\u001b[0m\u001b[0mexecute\u001b[0m\u001b[1;33m(\u001b[0m\u001b[0mcommand\u001b[0m\u001b[1;33m,\u001b[0m \u001b[0mparams\u001b[0m\u001b[1;33m)\u001b[0m\u001b[1;33m\u001b[0m\u001b[1;33m\u001b[0m\u001b[0m\n\u001b[0m\u001b[0;32m    634\u001b[0m \u001b[1;33m\u001b[0m\u001b[0m\n\u001b[0;32m    635\u001b[0m     \u001b[1;32mdef\u001b[0m \u001b[0mfind_element\u001b[0m\u001b[1;33m(\u001b[0m\u001b[0mself\u001b[0m\u001b[1;33m,\u001b[0m \u001b[0mby\u001b[0m\u001b[1;33m=\u001b[0m\u001b[0mBy\u001b[0m\u001b[1;33m.\u001b[0m\u001b[0mID\u001b[0m\u001b[1;33m,\u001b[0m \u001b[0mvalue\u001b[0m\u001b[1;33m=\u001b[0m\u001b[1;32mNone\u001b[0m\u001b[1;33m)\u001b[0m\u001b[1;33m:\u001b[0m\u001b[1;33m\u001b[0m\u001b[1;33m\u001b[0m\u001b[0m\n",
      "\u001b[1;32m~\\anaconda3\\lib\\site-packages\\selenium\\webdriver\\remote\\webdriver.py\u001b[0m in \u001b[0;36mexecute\u001b[1;34m(self, driver_command, params)\u001b[0m\n\u001b[0;32m    317\u001b[0m \u001b[1;33m\u001b[0m\u001b[0m\n\u001b[0;32m    318\u001b[0m         \u001b[0mparams\u001b[0m \u001b[1;33m=\u001b[0m \u001b[0mself\u001b[0m\u001b[1;33m.\u001b[0m\u001b[0m_wrap_value\u001b[0m\u001b[1;33m(\u001b[0m\u001b[0mparams\u001b[0m\u001b[1;33m)\u001b[0m\u001b[1;33m\u001b[0m\u001b[1;33m\u001b[0m\u001b[0m\n\u001b[1;32m--> 319\u001b[1;33m         \u001b[0mresponse\u001b[0m \u001b[1;33m=\u001b[0m \u001b[0mself\u001b[0m\u001b[1;33m.\u001b[0m\u001b[0mcommand_executor\u001b[0m\u001b[1;33m.\u001b[0m\u001b[0mexecute\u001b[0m\u001b[1;33m(\u001b[0m\u001b[0mdriver_command\u001b[0m\u001b[1;33m,\u001b[0m \u001b[0mparams\u001b[0m\u001b[1;33m)\u001b[0m\u001b[1;33m\u001b[0m\u001b[1;33m\u001b[0m\u001b[0m\n\u001b[0m\u001b[0;32m    320\u001b[0m         \u001b[1;32mif\u001b[0m \u001b[0mresponse\u001b[0m\u001b[1;33m:\u001b[0m\u001b[1;33m\u001b[0m\u001b[1;33m\u001b[0m\u001b[0m\n\u001b[0;32m    321\u001b[0m             \u001b[0mself\u001b[0m\u001b[1;33m.\u001b[0m\u001b[0merror_handler\u001b[0m\u001b[1;33m.\u001b[0m\u001b[0mcheck_response\u001b[0m\u001b[1;33m(\u001b[0m\u001b[0mresponse\u001b[0m\u001b[1;33m)\u001b[0m\u001b[1;33m\u001b[0m\u001b[1;33m\u001b[0m\u001b[0m\n",
      "\u001b[1;32m~\\anaconda3\\lib\\site-packages\\selenium\\webdriver\\remote\\remote_connection.py\u001b[0m in \u001b[0;36mexecute\u001b[1;34m(self, command, params)\u001b[0m\n\u001b[0;32m    372\u001b[0m         \u001b[0mdata\u001b[0m \u001b[1;33m=\u001b[0m \u001b[0mutils\u001b[0m\u001b[1;33m.\u001b[0m\u001b[0mdump_json\u001b[0m\u001b[1;33m(\u001b[0m\u001b[0mparams\u001b[0m\u001b[1;33m)\u001b[0m\u001b[1;33m\u001b[0m\u001b[1;33m\u001b[0m\u001b[0m\n\u001b[0;32m    373\u001b[0m         \u001b[0murl\u001b[0m \u001b[1;33m=\u001b[0m \u001b[1;34m'%s%s'\u001b[0m \u001b[1;33m%\u001b[0m \u001b[1;33m(\u001b[0m\u001b[0mself\u001b[0m\u001b[1;33m.\u001b[0m\u001b[0m_url\u001b[0m\u001b[1;33m,\u001b[0m \u001b[0mpath\u001b[0m\u001b[1;33m)\u001b[0m\u001b[1;33m\u001b[0m\u001b[1;33m\u001b[0m\u001b[0m\n\u001b[1;32m--> 374\u001b[1;33m         \u001b[1;32mreturn\u001b[0m \u001b[0mself\u001b[0m\u001b[1;33m.\u001b[0m\u001b[0m_request\u001b[0m\u001b[1;33m(\u001b[0m\u001b[0mcommand_info\u001b[0m\u001b[1;33m[\u001b[0m\u001b[1;36m0\u001b[0m\u001b[1;33m]\u001b[0m\u001b[1;33m,\u001b[0m \u001b[0murl\u001b[0m\u001b[1;33m,\u001b[0m \u001b[0mbody\u001b[0m\u001b[1;33m=\u001b[0m\u001b[0mdata\u001b[0m\u001b[1;33m)\u001b[0m\u001b[1;33m\u001b[0m\u001b[1;33m\u001b[0m\u001b[0m\n\u001b[0m\u001b[0;32m    375\u001b[0m \u001b[1;33m\u001b[0m\u001b[0m\n\u001b[0;32m    376\u001b[0m     \u001b[1;32mdef\u001b[0m \u001b[0m_request\u001b[0m\u001b[1;33m(\u001b[0m\u001b[0mself\u001b[0m\u001b[1;33m,\u001b[0m \u001b[0mmethod\u001b[0m\u001b[1;33m,\u001b[0m \u001b[0murl\u001b[0m\u001b[1;33m,\u001b[0m \u001b[0mbody\u001b[0m\u001b[1;33m=\u001b[0m\u001b[1;32mNone\u001b[0m\u001b[1;33m)\u001b[0m\u001b[1;33m:\u001b[0m\u001b[1;33m\u001b[0m\u001b[1;33m\u001b[0m\u001b[0m\n",
      "\u001b[1;32m~\\anaconda3\\lib\\site-packages\\selenium\\webdriver\\remote\\remote_connection.py\u001b[0m in \u001b[0;36m_request\u001b[1;34m(self, method, url, body)\u001b[0m\n\u001b[0;32m    395\u001b[0m \u001b[1;33m\u001b[0m\u001b[0m\n\u001b[0;32m    396\u001b[0m         \u001b[1;32mif\u001b[0m \u001b[0mself\u001b[0m\u001b[1;33m.\u001b[0m\u001b[0mkeep_alive\u001b[0m\u001b[1;33m:\u001b[0m\u001b[1;33m\u001b[0m\u001b[1;33m\u001b[0m\u001b[0m\n\u001b[1;32m--> 397\u001b[1;33m             \u001b[0mresp\u001b[0m \u001b[1;33m=\u001b[0m \u001b[0mself\u001b[0m\u001b[1;33m.\u001b[0m\u001b[0m_conn\u001b[0m\u001b[1;33m.\u001b[0m\u001b[0mrequest\u001b[0m\u001b[1;33m(\u001b[0m\u001b[0mmethod\u001b[0m\u001b[1;33m,\u001b[0m \u001b[0murl\u001b[0m\u001b[1;33m,\u001b[0m \u001b[0mbody\u001b[0m\u001b[1;33m=\u001b[0m\u001b[0mbody\u001b[0m\u001b[1;33m,\u001b[0m \u001b[0mheaders\u001b[0m\u001b[1;33m=\u001b[0m\u001b[0mheaders\u001b[0m\u001b[1;33m)\u001b[0m\u001b[1;33m\u001b[0m\u001b[1;33m\u001b[0m\u001b[0m\n\u001b[0m\u001b[0;32m    398\u001b[0m \u001b[1;33m\u001b[0m\u001b[0m\n\u001b[0;32m    399\u001b[0m             \u001b[0mstatuscode\u001b[0m \u001b[1;33m=\u001b[0m \u001b[0mresp\u001b[0m\u001b[1;33m.\u001b[0m\u001b[0mstatus\u001b[0m\u001b[1;33m\u001b[0m\u001b[1;33m\u001b[0m\u001b[0m\n",
      "\u001b[1;32m~\\anaconda3\\lib\\site-packages\\urllib3\\request.py\u001b[0m in \u001b[0;36mrequest\u001b[1;34m(self, method, url, fields, headers, **urlopen_kw)\u001b[0m\n\u001b[0;32m     72\u001b[0m \u001b[1;33m\u001b[0m\u001b[0m\n\u001b[0;32m     73\u001b[0m         \u001b[1;32mif\u001b[0m \u001b[0mmethod\u001b[0m \u001b[1;32min\u001b[0m \u001b[0mself\u001b[0m\u001b[1;33m.\u001b[0m\u001b[0m_encode_url_methods\u001b[0m\u001b[1;33m:\u001b[0m\u001b[1;33m\u001b[0m\u001b[1;33m\u001b[0m\u001b[0m\n\u001b[1;32m---> 74\u001b[1;33m             return self.request_encode_url(\n\u001b[0m\u001b[0;32m     75\u001b[0m                 \u001b[0mmethod\u001b[0m\u001b[1;33m,\u001b[0m \u001b[0murl\u001b[0m\u001b[1;33m,\u001b[0m \u001b[0mfields\u001b[0m\u001b[1;33m=\u001b[0m\u001b[0mfields\u001b[0m\u001b[1;33m,\u001b[0m \u001b[0mheaders\u001b[0m\u001b[1;33m=\u001b[0m\u001b[0mheaders\u001b[0m\u001b[1;33m,\u001b[0m \u001b[1;33m**\u001b[0m\u001b[0murlopen_kw\u001b[0m\u001b[1;33m\u001b[0m\u001b[1;33m\u001b[0m\u001b[0m\n\u001b[0;32m     76\u001b[0m             )\n",
      "\u001b[1;32m~\\anaconda3\\lib\\site-packages\\urllib3\\request.py\u001b[0m in \u001b[0;36mrequest_encode_url\u001b[1;34m(self, method, url, fields, headers, **urlopen_kw)\u001b[0m\n\u001b[0;32m     94\u001b[0m             \u001b[0murl\u001b[0m \u001b[1;33m+=\u001b[0m \u001b[1;34m\"?\"\u001b[0m \u001b[1;33m+\u001b[0m \u001b[0murlencode\u001b[0m\u001b[1;33m(\u001b[0m\u001b[0mfields\u001b[0m\u001b[1;33m)\u001b[0m\u001b[1;33m\u001b[0m\u001b[1;33m\u001b[0m\u001b[0m\n\u001b[0;32m     95\u001b[0m \u001b[1;33m\u001b[0m\u001b[0m\n\u001b[1;32m---> 96\u001b[1;33m         \u001b[1;32mreturn\u001b[0m \u001b[0mself\u001b[0m\u001b[1;33m.\u001b[0m\u001b[0murlopen\u001b[0m\u001b[1;33m(\u001b[0m\u001b[0mmethod\u001b[0m\u001b[1;33m,\u001b[0m \u001b[0murl\u001b[0m\u001b[1;33m,\u001b[0m \u001b[1;33m**\u001b[0m\u001b[0mextra_kw\u001b[0m\u001b[1;33m)\u001b[0m\u001b[1;33m\u001b[0m\u001b[1;33m\u001b[0m\u001b[0m\n\u001b[0m\u001b[0;32m     97\u001b[0m \u001b[1;33m\u001b[0m\u001b[0m\n\u001b[0;32m     98\u001b[0m     def request_encode_body(\n",
      "\u001b[1;32m~\\anaconda3\\lib\\site-packages\\urllib3\\poolmanager.py\u001b[0m in \u001b[0;36murlopen\u001b[1;34m(self, method, url, redirect, **kw)\u001b[0m\n\u001b[0;32m    373\u001b[0m             \u001b[0mresponse\u001b[0m \u001b[1;33m=\u001b[0m \u001b[0mconn\u001b[0m\u001b[1;33m.\u001b[0m\u001b[0murlopen\u001b[0m\u001b[1;33m(\u001b[0m\u001b[0mmethod\u001b[0m\u001b[1;33m,\u001b[0m \u001b[0murl\u001b[0m\u001b[1;33m,\u001b[0m \u001b[1;33m**\u001b[0m\u001b[0mkw\u001b[0m\u001b[1;33m)\u001b[0m\u001b[1;33m\u001b[0m\u001b[1;33m\u001b[0m\u001b[0m\n\u001b[0;32m    374\u001b[0m         \u001b[1;32melse\u001b[0m\u001b[1;33m:\u001b[0m\u001b[1;33m\u001b[0m\u001b[1;33m\u001b[0m\u001b[0m\n\u001b[1;32m--> 375\u001b[1;33m             \u001b[0mresponse\u001b[0m \u001b[1;33m=\u001b[0m \u001b[0mconn\u001b[0m\u001b[1;33m.\u001b[0m\u001b[0murlopen\u001b[0m\u001b[1;33m(\u001b[0m\u001b[0mmethod\u001b[0m\u001b[1;33m,\u001b[0m \u001b[0mu\u001b[0m\u001b[1;33m.\u001b[0m\u001b[0mrequest_uri\u001b[0m\u001b[1;33m,\u001b[0m \u001b[1;33m**\u001b[0m\u001b[0mkw\u001b[0m\u001b[1;33m)\u001b[0m\u001b[1;33m\u001b[0m\u001b[1;33m\u001b[0m\u001b[0m\n\u001b[0m\u001b[0;32m    376\u001b[0m \u001b[1;33m\u001b[0m\u001b[0m\n\u001b[0;32m    377\u001b[0m         \u001b[0mredirect_location\u001b[0m \u001b[1;33m=\u001b[0m \u001b[0mredirect\u001b[0m \u001b[1;32mand\u001b[0m \u001b[0mresponse\u001b[0m\u001b[1;33m.\u001b[0m\u001b[0mget_redirect_location\u001b[0m\u001b[1;33m(\u001b[0m\u001b[1;33m)\u001b[0m\u001b[1;33m\u001b[0m\u001b[1;33m\u001b[0m\u001b[0m\n",
      "\u001b[1;32m~\\anaconda3\\lib\\site-packages\\urllib3\\connectionpool.py\u001b[0m in \u001b[0;36murlopen\u001b[1;34m(self, method, url, body, headers, retries, redirect, assert_same_host, timeout, pool_timeout, release_conn, chunked, body_pos, **response_kw)\u001b[0m\n\u001b[0;32m    697\u001b[0m \u001b[1;33m\u001b[0m\u001b[0m\n\u001b[0;32m    698\u001b[0m             \u001b[1;31m# Make the request on the httplib connection object.\u001b[0m\u001b[1;33m\u001b[0m\u001b[1;33m\u001b[0m\u001b[1;33m\u001b[0m\u001b[0m\n\u001b[1;32m--> 699\u001b[1;33m             httplib_response = self._make_request(\n\u001b[0m\u001b[0;32m    700\u001b[0m                 \u001b[0mconn\u001b[0m\u001b[1;33m,\u001b[0m\u001b[1;33m\u001b[0m\u001b[1;33m\u001b[0m\u001b[0m\n\u001b[0;32m    701\u001b[0m                 \u001b[0mmethod\u001b[0m\u001b[1;33m,\u001b[0m\u001b[1;33m\u001b[0m\u001b[1;33m\u001b[0m\u001b[0m\n",
      "\u001b[1;32m~\\anaconda3\\lib\\site-packages\\urllib3\\connectionpool.py\u001b[0m in \u001b[0;36m_make_request\u001b[1;34m(self, conn, method, url, timeout, chunked, **httplib_request_kw)\u001b[0m\n\u001b[0;32m    443\u001b[0m                     \u001b[1;31m# Python 3 (including for exceptions like SystemExit).\u001b[0m\u001b[1;33m\u001b[0m\u001b[1;33m\u001b[0m\u001b[1;33m\u001b[0m\u001b[0m\n\u001b[0;32m    444\u001b[0m                     \u001b[1;31m# Otherwise it looks like a bug in the code.\u001b[0m\u001b[1;33m\u001b[0m\u001b[1;33m\u001b[0m\u001b[1;33m\u001b[0m\u001b[0m\n\u001b[1;32m--> 445\u001b[1;33m                     \u001b[0msix\u001b[0m\u001b[1;33m.\u001b[0m\u001b[0mraise_from\u001b[0m\u001b[1;33m(\u001b[0m\u001b[0me\u001b[0m\u001b[1;33m,\u001b[0m \u001b[1;32mNone\u001b[0m\u001b[1;33m)\u001b[0m\u001b[1;33m\u001b[0m\u001b[1;33m\u001b[0m\u001b[0m\n\u001b[0m\u001b[0;32m    446\u001b[0m         \u001b[1;32mexcept\u001b[0m \u001b[1;33m(\u001b[0m\u001b[0mSocketTimeout\u001b[0m\u001b[1;33m,\u001b[0m \u001b[0mBaseSSLError\u001b[0m\u001b[1;33m,\u001b[0m \u001b[0mSocketError\u001b[0m\u001b[1;33m)\u001b[0m \u001b[1;32mas\u001b[0m \u001b[0me\u001b[0m\u001b[1;33m:\u001b[0m\u001b[1;33m\u001b[0m\u001b[1;33m\u001b[0m\u001b[0m\n\u001b[0;32m    447\u001b[0m             \u001b[0mself\u001b[0m\u001b[1;33m.\u001b[0m\u001b[0m_raise_timeout\u001b[0m\u001b[1;33m(\u001b[0m\u001b[0merr\u001b[0m\u001b[1;33m=\u001b[0m\u001b[0me\u001b[0m\u001b[1;33m,\u001b[0m \u001b[0murl\u001b[0m\u001b[1;33m=\u001b[0m\u001b[0murl\u001b[0m\u001b[1;33m,\u001b[0m \u001b[0mtimeout_value\u001b[0m\u001b[1;33m=\u001b[0m\u001b[0mread_timeout\u001b[0m\u001b[1;33m)\u001b[0m\u001b[1;33m\u001b[0m\u001b[1;33m\u001b[0m\u001b[0m\n",
      "\u001b[1;32m~\\anaconda3\\lib\\site-packages\\urllib3\\packages\\six.py\u001b[0m in \u001b[0;36mraise_from\u001b[1;34m(value, from_value)\u001b[0m\n",
      "\u001b[1;32m~\\anaconda3\\lib\\site-packages\\urllib3\\connectionpool.py\u001b[0m in \u001b[0;36m_make_request\u001b[1;34m(self, conn, method, url, timeout, chunked, **httplib_request_kw)\u001b[0m\n\u001b[0;32m    438\u001b[0m                 \u001b[1;31m# Python 3\u001b[0m\u001b[1;33m\u001b[0m\u001b[1;33m\u001b[0m\u001b[1;33m\u001b[0m\u001b[0m\n\u001b[0;32m    439\u001b[0m                 \u001b[1;32mtry\u001b[0m\u001b[1;33m:\u001b[0m\u001b[1;33m\u001b[0m\u001b[1;33m\u001b[0m\u001b[0m\n\u001b[1;32m--> 440\u001b[1;33m                     \u001b[0mhttplib_response\u001b[0m \u001b[1;33m=\u001b[0m \u001b[0mconn\u001b[0m\u001b[1;33m.\u001b[0m\u001b[0mgetresponse\u001b[0m\u001b[1;33m(\u001b[0m\u001b[1;33m)\u001b[0m\u001b[1;33m\u001b[0m\u001b[1;33m\u001b[0m\u001b[0m\n\u001b[0m\u001b[0;32m    441\u001b[0m                 \u001b[1;32mexcept\u001b[0m \u001b[0mBaseException\u001b[0m \u001b[1;32mas\u001b[0m \u001b[0me\u001b[0m\u001b[1;33m:\u001b[0m\u001b[1;33m\u001b[0m\u001b[1;33m\u001b[0m\u001b[0m\n\u001b[0;32m    442\u001b[0m                     \u001b[1;31m# Remove the TypeError from the exception chain in\u001b[0m\u001b[1;33m\u001b[0m\u001b[1;33m\u001b[0m\u001b[1;33m\u001b[0m\u001b[0m\n",
      "\u001b[1;32m~\\anaconda3\\lib\\http\\client.py\u001b[0m in \u001b[0;36mgetresponse\u001b[1;34m(self)\u001b[0m\n\u001b[0;32m   1345\u001b[0m         \u001b[1;32mtry\u001b[0m\u001b[1;33m:\u001b[0m\u001b[1;33m\u001b[0m\u001b[1;33m\u001b[0m\u001b[0m\n\u001b[0;32m   1346\u001b[0m             \u001b[1;32mtry\u001b[0m\u001b[1;33m:\u001b[0m\u001b[1;33m\u001b[0m\u001b[1;33m\u001b[0m\u001b[0m\n\u001b[1;32m-> 1347\u001b[1;33m                 \u001b[0mresponse\u001b[0m\u001b[1;33m.\u001b[0m\u001b[0mbegin\u001b[0m\u001b[1;33m(\u001b[0m\u001b[1;33m)\u001b[0m\u001b[1;33m\u001b[0m\u001b[1;33m\u001b[0m\u001b[0m\n\u001b[0m\u001b[0;32m   1348\u001b[0m             \u001b[1;32mexcept\u001b[0m \u001b[0mConnectionError\u001b[0m\u001b[1;33m:\u001b[0m\u001b[1;33m\u001b[0m\u001b[1;33m\u001b[0m\u001b[0m\n\u001b[0;32m   1349\u001b[0m                 \u001b[0mself\u001b[0m\u001b[1;33m.\u001b[0m\u001b[0mclose\u001b[0m\u001b[1;33m(\u001b[0m\u001b[1;33m)\u001b[0m\u001b[1;33m\u001b[0m\u001b[1;33m\u001b[0m\u001b[0m\n",
      "\u001b[1;32m~\\anaconda3\\lib\\http\\client.py\u001b[0m in \u001b[0;36mbegin\u001b[1;34m(self)\u001b[0m\n\u001b[0;32m    305\u001b[0m         \u001b[1;31m# read until we get a non-100 response\u001b[0m\u001b[1;33m\u001b[0m\u001b[1;33m\u001b[0m\u001b[1;33m\u001b[0m\u001b[0m\n\u001b[0;32m    306\u001b[0m         \u001b[1;32mwhile\u001b[0m \u001b[1;32mTrue\u001b[0m\u001b[1;33m:\u001b[0m\u001b[1;33m\u001b[0m\u001b[1;33m\u001b[0m\u001b[0m\n\u001b[1;32m--> 307\u001b[1;33m             \u001b[0mversion\u001b[0m\u001b[1;33m,\u001b[0m \u001b[0mstatus\u001b[0m\u001b[1;33m,\u001b[0m \u001b[0mreason\u001b[0m \u001b[1;33m=\u001b[0m \u001b[0mself\u001b[0m\u001b[1;33m.\u001b[0m\u001b[0m_read_status\u001b[0m\u001b[1;33m(\u001b[0m\u001b[1;33m)\u001b[0m\u001b[1;33m\u001b[0m\u001b[1;33m\u001b[0m\u001b[0m\n\u001b[0m\u001b[0;32m    308\u001b[0m             \u001b[1;32mif\u001b[0m \u001b[0mstatus\u001b[0m \u001b[1;33m!=\u001b[0m \u001b[0mCONTINUE\u001b[0m\u001b[1;33m:\u001b[0m\u001b[1;33m\u001b[0m\u001b[1;33m\u001b[0m\u001b[0m\n\u001b[0;32m    309\u001b[0m                 \u001b[1;32mbreak\u001b[0m\u001b[1;33m\u001b[0m\u001b[1;33m\u001b[0m\u001b[0m\n",
      "\u001b[1;32m~\\anaconda3\\lib\\http\\client.py\u001b[0m in \u001b[0;36m_read_status\u001b[1;34m(self)\u001b[0m\n\u001b[0;32m    266\u001b[0m \u001b[1;33m\u001b[0m\u001b[0m\n\u001b[0;32m    267\u001b[0m     \u001b[1;32mdef\u001b[0m \u001b[0m_read_status\u001b[0m\u001b[1;33m(\u001b[0m\u001b[0mself\u001b[0m\u001b[1;33m)\u001b[0m\u001b[1;33m:\u001b[0m\u001b[1;33m\u001b[0m\u001b[1;33m\u001b[0m\u001b[0m\n\u001b[1;32m--> 268\u001b[1;33m         \u001b[0mline\u001b[0m \u001b[1;33m=\u001b[0m \u001b[0mstr\u001b[0m\u001b[1;33m(\u001b[0m\u001b[0mself\u001b[0m\u001b[1;33m.\u001b[0m\u001b[0mfp\u001b[0m\u001b[1;33m.\u001b[0m\u001b[0mreadline\u001b[0m\u001b[1;33m(\u001b[0m\u001b[0m_MAXLINE\u001b[0m \u001b[1;33m+\u001b[0m \u001b[1;36m1\u001b[0m\u001b[1;33m)\u001b[0m\u001b[1;33m,\u001b[0m \u001b[1;34m\"iso-8859-1\"\u001b[0m\u001b[1;33m)\u001b[0m\u001b[1;33m\u001b[0m\u001b[1;33m\u001b[0m\u001b[0m\n\u001b[0m\u001b[0;32m    269\u001b[0m         \u001b[1;32mif\u001b[0m \u001b[0mlen\u001b[0m\u001b[1;33m(\u001b[0m\u001b[0mline\u001b[0m\u001b[1;33m)\u001b[0m \u001b[1;33m>\u001b[0m \u001b[0m_MAXLINE\u001b[0m\u001b[1;33m:\u001b[0m\u001b[1;33m\u001b[0m\u001b[1;33m\u001b[0m\u001b[0m\n\u001b[0;32m    270\u001b[0m             \u001b[1;32mraise\u001b[0m \u001b[0mLineTooLong\u001b[0m\u001b[1;33m(\u001b[0m\u001b[1;34m\"status line\"\u001b[0m\u001b[1;33m)\u001b[0m\u001b[1;33m\u001b[0m\u001b[1;33m\u001b[0m\u001b[0m\n",
      "\u001b[1;32m~\\anaconda3\\lib\\socket.py\u001b[0m in \u001b[0;36mreadinto\u001b[1;34m(self, b)\u001b[0m\n\u001b[0;32m    667\u001b[0m         \u001b[1;32mwhile\u001b[0m \u001b[1;32mTrue\u001b[0m\u001b[1;33m:\u001b[0m\u001b[1;33m\u001b[0m\u001b[1;33m\u001b[0m\u001b[0m\n\u001b[0;32m    668\u001b[0m             \u001b[1;32mtry\u001b[0m\u001b[1;33m:\u001b[0m\u001b[1;33m\u001b[0m\u001b[1;33m\u001b[0m\u001b[0m\n\u001b[1;32m--> 669\u001b[1;33m                 \u001b[1;32mreturn\u001b[0m \u001b[0mself\u001b[0m\u001b[1;33m.\u001b[0m\u001b[0m_sock\u001b[0m\u001b[1;33m.\u001b[0m\u001b[0mrecv_into\u001b[0m\u001b[1;33m(\u001b[0m\u001b[0mb\u001b[0m\u001b[1;33m)\u001b[0m\u001b[1;33m\u001b[0m\u001b[1;33m\u001b[0m\u001b[0m\n\u001b[0m\u001b[0;32m    670\u001b[0m             \u001b[1;32mexcept\u001b[0m \u001b[0mtimeout\u001b[0m\u001b[1;33m:\u001b[0m\u001b[1;33m\u001b[0m\u001b[1;33m\u001b[0m\u001b[0m\n\u001b[0;32m    671\u001b[0m                 \u001b[0mself\u001b[0m\u001b[1;33m.\u001b[0m\u001b[0m_timeout_occurred\u001b[0m \u001b[1;33m=\u001b[0m \u001b[1;32mTrue\u001b[0m\u001b[1;33m\u001b[0m\u001b[1;33m\u001b[0m\u001b[0m\n",
      "\u001b[1;31mKeyboardInterrupt\u001b[0m: "
     ]
    }
   ],
   "source": [
    "# 클린봇 버튼 누르지않고 실행\n",
    "for url in url_list[1:]:\n",
    "\n",
    "    idx = url.find('article')\n",
    "    url_new = url[:idx+7]+'/comment'+url[idx+7:]\n",
    "\n",
    "    #웹 드라이버\n",
    "    driver.implicitly_wait(3)\n",
    "    driver.get(url_new)\n",
    "\n",
    "\n",
    "    #더보기 계속 클릭하기\n",
    "    cnt = 0\n",
    "    while True:\n",
    "        try:\n",
    "            btn_more = driver.find_element_by_css_selector('a.u_cbox_btn_more')\n",
    "            btn_more.click()\n",
    "            # time.sleep(1)\n",
    "        except:\n",
    "            break\n",
    "\n",
    "    #제목추출\n",
    "    title = driver.find_element_by_class_name('media_end_head_headline')\n",
    "    #댓글추출\n",
    "    contents = driver.find_elements_by_css_selector('span.u_cbox_contents')\n",
    "\n",
    "    for content in contents:\n",
    "        comment_df = comment_df.append({'comment':content.text, 'title':title.text}, ignore_index=True)"
   ]
  },
  {
   "cell_type": "code",
   "execution_count": 57,
   "id": "b66b5b66",
   "metadata": {
    "ExecuteTime": {
     "end_time": "2022-09-27T05:33:26.820972Z",
     "start_time": "2022-09-27T05:33:26.799269Z"
    }
   },
   "outputs": [
    {
     "data": {
      "text/plain": [
       "215"
      ]
     },
     "execution_count": 57,
     "metadata": {},
     "output_type": "execute_result"
    }
   ],
   "source": [
    "len(comment_df.title.unique())"
   ]
  },
  {
   "cell_type": "code",
   "execution_count": 62,
   "id": "87e89667",
   "metadata": {
    "ExecuteTime": {
     "end_time": "2022-09-27T05:36:46.301884Z",
     "start_time": "2022-09-27T05:36:46.279710Z"
    }
   },
   "outputs": [
    {
     "data": {
      "text/plain": [
       "초중고 11명 성폭행…조두순 뺨치는 김근식 다음달 나온다                  1492\n",
       "조두순보다 더한 그가 출소한다 '미성년자 11명 연쇄 성폭행'               1320\n",
       "\"출소 16일만에 9살 성폭행\"…미성년자 11명 연쇄 성폭행범 21일 나온다       1277\n",
       "아빠·감독이 16살 女선수 ‘궁디팡팡’… 성추행 논란                    1086\n",
       "초중고 11명 성폭행... 조두순 뺨치는 김근식, 10월 사회 나온다            849\n",
       "교사 수업 중인데 교단에 누워 휴대전화 '만지작'…\"교권 추락의 민낯\"           822\n",
       "\"다른 남성이 엉덩이 만지던데\" 이태원에 나타난 비키니 오토바이女 \"딱히..\"       811\n",
       "[단독]교사 “식판 맞아도 참는다”… 교권침해 3년간 6128건, 고발 14건뿐      709\n",
       "‘성폭력 폭로’ 강민진 “당기위서 팬티만 입었는지 물어”...2차 가해 문제 제기     693\n",
       "미성년 11명 성폭행, 조두순만큼 끔찍한 그놈 나온다                     689\n",
       "16살 딸 '궁디팡팡'은 성추행일까…국제 테니스 대회서 때아닌 논란             680\n",
       "무너지는 교권...수업 중 교단에 벌러덩 누운 학생, 그대로 수업한 교사          657\n",
       "여중생에 “섹시해” “너 없이 못 살아”… 학교는 남교사 감쌌다               597\n",
       "\"도와달라\"며 미성년 11명 성폭행…'조두순급 악질' 김근식 곧 출소            562\n",
       "출소 16일만 미성년 11명 성폭행…조두순 뺨친 흉악범이 출소한다              556\n",
       "“아가씨라고 부르지 마세요” 호칭 갈등 어떻게 할까요?                    493\n",
       "'미성년 12명 성폭행' 김근식 10월 출소…맘카페 '발칵'                 459\n",
       "‘성 접대 의혹’ 이준석 전 대표 ‘경찰 소환 조사’                     455\n",
       "“도와달라”며 유인해 11명 성폭행…김근식 내달 출소                     430\n",
       "‘이런 비위 검사’ 봐준 오석준 대법관 후보자                         418\n",
       "Name: title, dtype: int64"
      ]
     },
     "execution_count": 62,
     "metadata": {},
     "output_type": "execute_result"
    }
   ],
   "source": [
    "comment_df['title'].value_counts().head(20)"
   ]
  },
  {
   "cell_type": "code",
   "execution_count": 74,
   "id": "9107ce7b",
   "metadata": {
    "ExecuteTime": {
     "end_time": "2022-09-27T05:42:02.201946Z",
     "start_time": "2022-09-27T05:42:02.172789Z"
    },
    "scrolled": true
   },
   "outputs": [
    {
     "data": {
      "text/html": [
       "<div>\n",
       "<style scoped>\n",
       "    .dataframe tbody tr th:only-of-type {\n",
       "        vertical-align: middle;\n",
       "    }\n",
       "\n",
       "    .dataframe tbody tr th {\n",
       "        vertical-align: top;\n",
       "    }\n",
       "\n",
       "    .dataframe thead th {\n",
       "        text-align: right;\n",
       "    }\n",
       "</style>\n",
       "<table border=\"1\" class=\"dataframe\">\n",
       "  <thead>\n",
       "    <tr style=\"text-align: right;\">\n",
       "      <th></th>\n",
       "      <th>comment</th>\n",
       "      <th>title</th>\n",
       "    </tr>\n",
       "  </thead>\n",
       "  <tbody>\n",
       "    <tr>\n",
       "      <th>0</th>\n",
       "      <td>11명 성폭행하고 15년이라는게 더 충격이다ㅋㅋ대한민국 형 부여 어이상실</td>\n",
       "      <td>‘미성년 11명 성폭행’ 김근식 내달 출소… 법무부 “1대 1 전자감독 대상”</td>\n",
       "    </tr>\n",
       "    <tr>\n",
       "      <th>1</th>\n",
       "      <td>사형좀 시키지 15년동안 밥을 먹이다니 ...</td>\n",
       "      <td>‘미성년 11명 성폭행’ 김근식 내달 출소… 법무부 “1대 1 전자감독 대상”</td>\n",
       "    </tr>\n",
       "    <tr>\n",
       "      <th>2</th>\n",
       "      <td>영미권(미국, 영국, 캐나다, 호주, 뉴질랜드 포함) 국가였으면 진짜 길가다가 총맞...</td>\n",
       "      <td>‘미성년 11명 성폭행’ 김근식 내달 출소… 법무부 “1대 1 전자감독 대상”</td>\n",
       "    </tr>\n",
       "    <tr>\n",
       "      <th>3</th>\n",
       "      <td>김근식 출소해서 사고치면 누구 하나 책임지라니까</td>\n",
       "      <td>‘미성년 11명 성폭행’ 김근식 내달 출소… 법무부 “1대 1 전자감독 대상”</td>\n",
       "    </tr>\n",
       "    <tr>\n",
       "      <th>4</th>\n",
       "      <td>초등학생???? 11명???? 15년????!!!! 거기다 1대1감시??이거 뭐하는...</td>\n",
       "      <td>‘미성년 11명 성폭행’ 김근식 내달 출소… 법무부 “1대 1 전자감독 대상”</td>\n",
       "    </tr>\n",
       "    <tr>\n",
       "      <th>...</th>\n",
       "      <td>...</td>\n",
       "      <td>...</td>\n",
       "    </tr>\n",
       "    <tr>\n",
       "      <th>27375</th>\n",
       "      <td>요즘사람이면 이해하지만 옛날분들한테 그런식으로 말하면 안되지 니들세대 이해해 달라고...</td>\n",
       "      <td>알바생을 ‘아가씨’라 불렀다가 욕 먹었네요 [사연뉴스]</td>\n",
       "    </tr>\n",
       "    <tr>\n",
       "      <th>27376</th>\n",
       "      <td>나는 무조건 사장님 이라고 부른다. 그게 편하더라. 사장님~ 부르면 사장이 오거나 ...</td>\n",
       "      <td>알바생을 ‘아가씨’라 불렀다가 욕 먹었네요 [사연뉴스]</td>\n",
       "    </tr>\n",
       "    <tr>\n",
       "      <th>27377</th>\n",
       "      <td>예민한것도 맞고ㅋㅋ 근데 남알바생한테 총각이라고 하는지 생각해보면 답나올껄 총각이란...</td>\n",
       "      <td>알바생을 ‘아가씨’라 불렀다가 욕 먹었네요 [사연뉴스]</td>\n",
       "    </tr>\n",
       "    <tr>\n",
       "      <th>27378</th>\n",
       "      <td>숙녀분이라고 불렀어야죠...ㅋㅋㅋ..숙녀분....여기 돼지갈비 2인분 추가요.</td>\n",
       "      <td>알바생을 ‘아가씨’라 불렀다가 욕 먹었네요 [사연뉴스]</td>\n",
       "    </tr>\n",
       "    <tr>\n",
       "      <th>27379</th>\n",
       "      <td>미스김도 원래 영어 호칭에선 높임말. 그렇게 부르면 한국에서는 완전 하대이듯이 원래...</td>\n",
       "      <td>알바생을 ‘아가씨’라 불렀다가 욕 먹었네요 [사연뉴스]</td>\n",
       "    </tr>\n",
       "  </tbody>\n",
       "</table>\n",
       "<p>27380 rows × 2 columns</p>\n",
       "</div>"
      ],
      "text/plain": [
       "                                                 comment  \\\n",
       "0               11명 성폭행하고 15년이라는게 더 충격이다ㅋㅋ대한민국 형 부여 어이상실   \n",
       "1                              사형좀 시키지 15년동안 밥을 먹이다니 ...   \n",
       "2      영미권(미국, 영국, 캐나다, 호주, 뉴질랜드 포함) 국가였으면 진짜 길가다가 총맞...   \n",
       "3                             김근식 출소해서 사고치면 누구 하나 책임지라니까   \n",
       "4      초등학생???? 11명???? 15년????!!!! 거기다 1대1감시??이거 뭐하는...   \n",
       "...                                                  ...   \n",
       "27375  요즘사람이면 이해하지만 옛날분들한테 그런식으로 말하면 안되지 니들세대 이해해 달라고...   \n",
       "27376  나는 무조건 사장님 이라고 부른다. 그게 편하더라. 사장님~ 부르면 사장이 오거나 ...   \n",
       "27377  예민한것도 맞고ㅋㅋ 근데 남알바생한테 총각이라고 하는지 생각해보면 답나올껄 총각이란...   \n",
       "27378        숙녀분이라고 불렀어야죠...ㅋㅋㅋ..숙녀분....여기 돼지갈비 2인분 추가요.   \n",
       "27379  미스김도 원래 영어 호칭에선 높임말. 그렇게 부르면 한국에서는 완전 하대이듯이 원래...   \n",
       "\n",
       "                                             title  \n",
       "0      ‘미성년 11명 성폭행’ 김근식 내달 출소… 법무부 “1대 1 전자감독 대상”  \n",
       "1      ‘미성년 11명 성폭행’ 김근식 내달 출소… 법무부 “1대 1 전자감독 대상”  \n",
       "2      ‘미성년 11명 성폭행’ 김근식 내달 출소… 법무부 “1대 1 전자감독 대상”  \n",
       "3      ‘미성년 11명 성폭행’ 김근식 내달 출소… 법무부 “1대 1 전자감독 대상”  \n",
       "4      ‘미성년 11명 성폭행’ 김근식 내달 출소… 법무부 “1대 1 전자감독 대상”  \n",
       "...                                            ...  \n",
       "27375               알바생을 ‘아가씨’라 불렀다가 욕 먹었네요 [사연뉴스]  \n",
       "27376               알바생을 ‘아가씨’라 불렀다가 욕 먹었네요 [사연뉴스]  \n",
       "27377               알바생을 ‘아가씨’라 불렀다가 욕 먹었네요 [사연뉴스]  \n",
       "27378               알바생을 ‘아가씨’라 불렀다가 욕 먹었네요 [사연뉴스]  \n",
       "27379               알바생을 ‘아가씨’라 불렀다가 욕 먹었네요 [사연뉴스]  \n",
       "\n",
       "[27380 rows x 2 columns]"
      ]
     },
     "execution_count": 74,
     "metadata": {},
     "output_type": "execute_result"
    }
   ],
   "source": [
    "comment_df"
   ]
  },
  {
   "cell_type": "code",
   "execution_count": 75,
   "id": "d65dbc12",
   "metadata": {
    "ExecuteTime": {
     "end_time": "2022-09-27T05:42:46.913644Z",
     "start_time": "2022-09-27T05:42:33.024693Z"
    }
   },
   "outputs": [],
   "source": [
    "# 댓글 27380개 엑셀 저장\n",
    "comment_df.to_excel('./0927_성범죄_댓글_1.xlsx',index=False)"
   ]
  },
  {
   "cell_type": "code",
   "execution_count": null,
   "id": "f51cbed5",
   "metadata": {},
   "outputs": [],
   "source": []
  }
 ],
 "metadata": {
  "kernelspec": {
   "display_name": "Python 3 (ipykernel)",
   "language": "python",
   "name": "python3"
  },
  "language_info": {
   "codemirror_mode": {
    "name": "ipython",
    "version": 3
   },
   "file_extension": ".py",
   "mimetype": "text/x-python",
   "name": "python",
   "nbconvert_exporter": "python",
   "pygments_lexer": "ipython3",
   "version": "3.8.8"
  },
  "toc": {
   "base_numbering": 1,
   "nav_menu": {},
   "number_sections": true,
   "sideBar": true,
   "skip_h1_title": false,
   "title_cell": "Table of Contents",
   "title_sidebar": "Contents",
   "toc_cell": false,
   "toc_position": {},
   "toc_section_display": true,
   "toc_window_display": false
  }
 },
 "nbformat": 4,
 "nbformat_minor": 5
}
