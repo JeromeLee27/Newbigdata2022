{
 "cells": [
  {
   "cell_type": "code",
   "execution_count": 52,
   "id": "6ec024e8",
   "metadata": {},
   "outputs": [],
   "source": [
    "from bs4 import BeautifulSoup\n",
    "import requests\n",
    "from selenium import webdriver\n",
    "import pandas as pd"
   ]
  },
  {
   "cell_type": "markdown",
   "id": "9799611c",
   "metadata": {},
   "source": [
    "#### webdriver 깔고 경로 복사해서 붙여넣기!!"
   ]
  },
  {
   "cell_type": "code",
   "execution_count": 39,
   "id": "919ce0d3",
   "metadata": {},
   "outputs": [
    {
     "name": "stderr",
     "output_type": "stream",
     "text": [
      "C:\\Users\\ChannelA\\AppData\\Local\\Temp/ipykernel_18552/3094159711.py:1: DeprecationWarning: executable_path has been deprecated, please pass in a Service object\n",
      "  driver = webdriver.Chrome(r'C:\\Users\\ChannelA\\Desktop\\jupyter\\chromedriver.exe')\n"
     ]
    }
   ],
   "source": [
    "driver = webdriver.Chrome(r'C:\\Users\\ChannelA\\Desktop\\jupyter\\chromedriver.exe')"
   ]
  },
  {
   "cell_type": "markdown",
   "id": "e6a6813e",
   "metadata": {},
   "source": [
    "#### news_list에 각 기사 넘버 넣기 (url에 있어요)"
   ]
  },
  {
   "cell_type": "code",
   "execution_count": 65,
   "id": "bf039c72",
   "metadata": {},
   "outputs": [],
   "source": [
    "url = 'https://news.nate.com/Comment/ArticleComment/List?artc_sq={}&order=&cmtr_fl=0&prebest=0&clean_idx=&user_nm=&fold=&mid=n1006&domain=&argList=0&best=0&return_sq=&connectAuth=N&page={}#comment'\n",
    "\n",
    "# 이 부분 기사 고유번호 채워넣기!\n",
    "news_list = ['20220627n05590', '20220627n04366', '20220627n00377']\n",
    "review_list = []\n",
    "\n",
    "# 댓글 1~30 페이지까지 크롤링 -> 만약 댓글이 30페이지 넘어가면 숫자 변경!\n",
    "for news_number in news_list:\n",
    "    for page in range(1,30):\n",
    "        link = url.format(news_number, page)\n",
    "        driver.get(link)\n",
    "        driver.implicitly_wait(2)\n",
    "\n",
    "        html = driver.page_source\n",
    "        soup = BeautifulSoup(html, 'html.parser')\n",
    "        comment = soup.find_all('dd',{'class': 'usertxt'})\n",
    "\n",
    "        for review in comment:\n",
    "            review_list.append(review.get_text().strip())\n",
    "\n",
    "## 확인용~\n",
    "#     for a in review_list:\n",
    "#         print(a + '\\n')\n",
    "\n",
    "## 확인용~~\n",
    "#     print(news_number, len(review_list))"
   ]
  },
  {
   "cell_type": "markdown",
   "id": "248e6ce3",
   "metadata": {},
   "source": [
    "#### 데이터프레임 화"
   ]
  },
  {
   "cell_type": "code",
   "execution_count": 55,
   "id": "8cf84d69",
   "metadata": {},
   "outputs": [],
   "source": [
    "df = pd.DataFrame({'comment':review_list})"
   ]
  },
  {
   "cell_type": "code",
   "execution_count": 68,
   "id": "2535ee5c",
   "metadata": {
    "scrolled": true
   },
   "outputs": [
    {
     "data": {
      "text/html": [
       "<div>\n",
       "<style scoped>\n",
       "    .dataframe tbody tr th:only-of-type {\n",
       "        vertical-align: middle;\n",
       "    }\n",
       "\n",
       "    .dataframe tbody tr th {\n",
       "        vertical-align: top;\n",
       "    }\n",
       "\n",
       "    .dataframe thead th {\n",
       "        text-align: right;\n",
       "    }\n",
       "</style>\n",
       "<table border=\"1\" class=\"dataframe\">\n",
       "  <thead>\n",
       "    <tr style=\"text-align: right;\">\n",
       "      <th></th>\n",
       "      <th>comment</th>\n",
       "    </tr>\n",
       "  </thead>\n",
       "  <tbody>\n",
       "    <tr>\n",
       "      <th>0</th>\n",
       "      <td>그동네에 소문 다았어...\\n나대지말고 걍 밥만먹고와..\\n쪽팔리니까..</td>\n",
       "    </tr>\n",
       "    <tr>\n",
       "      <th>1</th>\n",
       "      <td>선거전: 조용히 살겠다.\\n.\\n천공: 활발히 활동해야 한다. \\n김건희: 예! 계...</td>\n",
       "    </tr>\n",
       "    <tr>\n",
       "      <th>2</th>\n",
       "      <td>우리나라 성형외과 기술의 발전을 세계 널리 알려주세요 ㅋㅋㅋㅋㅋㅋ</td>\n",
       "    </tr>\n",
       "    <tr>\n",
       "      <th>3</th>\n",
       "      <td>ㄴㅁㄹ!</td>\n",
       "    </tr>\n",
       "    <tr>\n",
       "      <th>4</th>\n",
       "      <td>ㅆㅂㄴㅇ  ㄴㅈㅁㅎㄷㅁ ㄱㄴㅇ\\n이거 해석좀 해주세요</td>\n",
       "    </tr>\n",
       "  </tbody>\n",
       "</table>\n",
       "</div>"
      ],
      "text/plain": [
       "                                             comment\n",
       "0           그동네에 소문 다았어...\\n나대지말고 걍 밥만먹고와..\\n쪽팔리니까..\n",
       "1  선거전: 조용히 살겠다.\\n.\\n천공: 활발히 활동해야 한다. \\n김건희: 예! 계...\n",
       "2               우리나라 성형외과 기술의 발전을 세계 널리 알려주세요 ㅋㅋㅋㅋㅋㅋ\n",
       "3                                               ㄴㅁㄹ!\n",
       "4                      ㅆㅂㄴㅇ  ㄴㅈㅁㅎㄷㅁ ㄱㄴㅇ\\n이거 해석좀 해주세요"
      ]
     },
     "execution_count": 68,
     "metadata": {},
     "output_type": "execute_result"
    }
   ],
   "source": [
    "# 저장하기 전에 확인\n",
    "df.head()"
   ]
  },
  {
   "cell_type": "markdown",
   "id": "d2f69dfa",
   "metadata": {},
   "source": [
    "#### csv로 내보내기"
   ]
  },
  {
   "cell_type": "code",
   "execution_count": 67,
   "id": "e668b64d",
   "metadata": {},
   "outputs": [],
   "source": [
    "df.to_csv('./네이트뉴스.csv', index=False, encoding=\"utf-8-sig\")"
   ]
  },
  {
   "cell_type": "code",
   "execution_count": null,
   "id": "ac78020a",
   "metadata": {},
   "outputs": [],
   "source": []
  }
 ],
 "metadata": {
  "kernelspec": {
   "display_name": "Python 3 (ipykernel)",
   "language": "python",
   "name": "python3"
  },
  "language_info": {
   "codemirror_mode": {
    "name": "ipython",
    "version": 3
   },
   "file_extension": ".py",
   "mimetype": "text/x-python",
   "name": "python",
   "nbconvert_exporter": "python",
   "pygments_lexer": "ipython3",
   "version": "3.9.7"
  },
  "toc": {
   "base_numbering": 1,
   "nav_menu": {},
   "number_sections": true,
   "sideBar": true,
   "skip_h1_title": false,
   "title_cell": "Table of Contents",
   "title_sidebar": "Contents",
   "toc_cell": false,
   "toc_position": {},
   "toc_section_display": true,
   "toc_window_display": false
  }
 },
 "nbformat": 4,
 "nbformat_minor": 5
}
